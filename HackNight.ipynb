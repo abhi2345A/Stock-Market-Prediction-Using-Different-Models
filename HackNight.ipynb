{
 "cells": [
  {
   "cell_type": "code",
   "execution_count": 528,
   "metadata": {},
   "outputs": [],
   "source": [
    "workspace_id = \"f4491456c7b84635898c7739176b928a\"\n",
    "workspace_token = \"UxBcm5ZkRgb34SjGr0JUbMbIRY1/NfuspWgVBtUQF4VjVDK9MX1i8MqRzGUbtxLbulVxnCdWLmOwXGmZza8dhA==\""
   ]
  },
  {
   "cell_type": "code",
   "execution_count": null,
   "metadata": {},
   "outputs": [],
   "source": []
  },
  {
   "cell_type": "code",
   "execution_count": 362,
   "metadata": {},
   "outputs": [],
   "source": [
    "import pandas as pd\n",
    "import numpy as np\n",
    "import matplotlib.pyplot as plt\n",
    "import seaborn as sns"
   ]
  },
  {
   "cell_type": "code",
   "execution_count": 363,
   "metadata": {},
   "outputs": [],
   "source": [
    "df = pd.read_csv('C://Users/dell/Desktop/data.csv')"
   ]
  },
  {
   "cell_type": "code",
   "execution_count": 364,
   "metadata": {},
   "outputs": [
    {
     "data": {
      "text/plain": [
       "(246, 7)"
      ]
     },
     "execution_count": 364,
     "metadata": {},
     "output_type": "execute_result"
    }
   ],
   "source": [
    "df.shape"
   ]
  },
  {
   "cell_type": "code",
   "execution_count": 365,
   "metadata": {},
   "outputs": [
    {
     "data": {
      "text/html": [
       "<div>\n",
       "<style scoped>\n",
       "    .dataframe tbody tr th:only-of-type {\n",
       "        vertical-align: middle;\n",
       "    }\n",
       "\n",
       "    .dataframe tbody tr th {\n",
       "        vertical-align: top;\n",
       "    }\n",
       "\n",
       "    .dataframe thead th {\n",
       "        text-align: right;\n",
       "    }\n",
       "</style>\n",
       "<table border=\"1\" class=\"dataframe\">\n",
       "  <thead>\n",
       "    <tr style=\"text-align: right;\">\n",
       "      <th></th>\n",
       "      <th>Date</th>\n",
       "      <th>Open</th>\n",
       "      <th>High</th>\n",
       "      <th>Low</th>\n",
       "      <th>Close</th>\n",
       "      <th>Adj Close</th>\n",
       "      <th>Volume</th>\n",
       "    </tr>\n",
       "  </thead>\n",
       "  <tbody>\n",
       "    <tr>\n",
       "      <th>0</th>\n",
       "      <td>2018-10-19</td>\n",
       "      <td>43900.0</td>\n",
       "      <td>44150.0</td>\n",
       "      <td>43450.0</td>\n",
       "      <td>43900.0</td>\n",
       "      <td>43494.769531</td>\n",
       "      <td>7842520.0</td>\n",
       "    </tr>\n",
       "    <tr>\n",
       "      <th>1</th>\n",
       "      <td>2018-10-22</td>\n",
       "      <td>43450.0</td>\n",
       "      <td>43950.0</td>\n",
       "      <td>43200.0</td>\n",
       "      <td>43550.0</td>\n",
       "      <td>43148.000000</td>\n",
       "      <td>8357648.0</td>\n",
       "    </tr>\n",
       "    <tr>\n",
       "      <th>2</th>\n",
       "      <td>2018-10-23</td>\n",
       "      <td>43300.0</td>\n",
       "      <td>43450.0</td>\n",
       "      <td>42550.0</td>\n",
       "      <td>43050.0</td>\n",
       "      <td>42652.613281</td>\n",
       "      <td>9531231.0</td>\n",
       "    </tr>\n",
       "    <tr>\n",
       "      <th>3</th>\n",
       "      <td>2018-10-24</td>\n",
       "      <td>43050.0</td>\n",
       "      <td>43100.0</td>\n",
       "      <td>42250.0</td>\n",
       "      <td>42550.0</td>\n",
       "      <td>42157.230469</td>\n",
       "      <td>13522825.0</td>\n",
       "    </tr>\n",
       "    <tr>\n",
       "      <th>4</th>\n",
       "      <td>2018-10-25</td>\n",
       "      <td>40600.0</td>\n",
       "      <td>41550.0</td>\n",
       "      <td>40550.0</td>\n",
       "      <td>41000.0</td>\n",
       "      <td>40621.539063</td>\n",
       "      <td>19338170.0</td>\n",
       "    </tr>\n",
       "    <tr>\n",
       "      <th>5</th>\n",
       "      <td>2018-10-26</td>\n",
       "      <td>41100.0</td>\n",
       "      <td>41300.0</td>\n",
       "      <td>40400.0</td>\n",
       "      <td>41000.0</td>\n",
       "      <td>40621.539063</td>\n",
       "      <td>14413864.0</td>\n",
       "    </tr>\n",
       "    <tr>\n",
       "      <th>6</th>\n",
       "      <td>2018-10-29</td>\n",
       "      <td>40850.0</td>\n",
       "      <td>41950.0</td>\n",
       "      <td>40550.0</td>\n",
       "      <td>41400.0</td>\n",
       "      <td>41017.843750</td>\n",
       "      <td>14460521.0</td>\n",
       "    </tr>\n",
       "    <tr>\n",
       "      <th>7</th>\n",
       "      <td>2018-10-30</td>\n",
       "      <td>41400.0</td>\n",
       "      <td>43000.0</td>\n",
       "      <td>41000.0</td>\n",
       "      <td>42350.0</td>\n",
       "      <td>41959.074219</td>\n",
       "      <td>14205190.0</td>\n",
       "    </tr>\n",
       "    <tr>\n",
       "      <th>8</th>\n",
       "      <td>2018-10-31</td>\n",
       "      <td>42900.0</td>\n",
       "      <td>43350.0</td>\n",
       "      <td>41700.0</td>\n",
       "      <td>42400.0</td>\n",
       "      <td>42008.613281</td>\n",
       "      <td>17621480.0</td>\n",
       "    </tr>\n",
       "    <tr>\n",
       "      <th>9</th>\n",
       "      <td>2018-11-01</td>\n",
       "      <td>42450.0</td>\n",
       "      <td>42950.0</td>\n",
       "      <td>42150.0</td>\n",
       "      <td>42150.0</td>\n",
       "      <td>41760.921875</td>\n",
       "      <td>13423132.0</td>\n",
       "    </tr>\n",
       "  </tbody>\n",
       "</table>\n",
       "</div>"
      ],
      "text/plain": [
       "         Date     Open     High      Low    Close     Adj Close      Volume\n",
       "0  2018-10-19  43900.0  44150.0  43450.0  43900.0  43494.769531   7842520.0\n",
       "1  2018-10-22  43450.0  43950.0  43200.0  43550.0  43148.000000   8357648.0\n",
       "2  2018-10-23  43300.0  43450.0  42550.0  43050.0  42652.613281   9531231.0\n",
       "3  2018-10-24  43050.0  43100.0  42250.0  42550.0  42157.230469  13522825.0\n",
       "4  2018-10-25  40600.0  41550.0  40550.0  41000.0  40621.539063  19338170.0\n",
       "5  2018-10-26  41100.0  41300.0  40400.0  41000.0  40621.539063  14413864.0\n",
       "6  2018-10-29  40850.0  41950.0  40550.0  41400.0  41017.843750  14460521.0\n",
       "7  2018-10-30  41400.0  43000.0  41000.0  42350.0  41959.074219  14205190.0\n",
       "8  2018-10-31  42900.0  43350.0  41700.0  42400.0  42008.613281  17621480.0\n",
       "9  2018-11-01  42450.0  42950.0  42150.0  42150.0  41760.921875  13423132.0"
      ]
     },
     "execution_count": 365,
     "metadata": {},
     "output_type": "execute_result"
    }
   ],
   "source": [
    "df.head(10)"
   ]
  },
  {
   "cell_type": "code",
   "execution_count": 366,
   "metadata": {},
   "outputs": [
    {
     "data": {
      "text/plain": [
       "<matplotlib.axes._subplots.AxesSubplot at 0x22651d35a90>"
      ]
     },
     "execution_count": 366,
     "metadata": {},
     "output_type": "execute_result"
    },
    {
     "data": {
      "image/png": "[encoded data removed]",
      "text/plain": [
       "<Figure size 720x432 with 2 Axes>"
      ]
     },
     "metadata": {},
     "output_type": "display_data"
    }
   ],
   "source": [
    "plt.figure(figsize=(10,6))\n",
    "sns.heatmap(df.isnull())"
   ]
  },
  {
   "cell_type": "code",
   "execution_count": 367,
   "metadata": {},
   "outputs": [],
   "source": [
    "df.dropna(inplace=True)"
   ]
  },
  {
   "cell_type": "code",
   "execution_count": 540,
   "metadata": {},
   "outputs": [
    {
     "data": {
      "text/plain": [
       "<matplotlib.axes._subplots.AxesSubplot at 0x2265c47be48>"
      ]
     },
     "execution_count": 540,
     "metadata": {},
     "output_type": "execute_result"
    },
    {
     "data": {
      "image/png": "[encoded data removed]",
      "text/plain": [
       "<Figure size 720x432 with 2 Axes>"
      ]
     },
     "metadata": {},
     "output_type": "display_data"
    }
   ],
   "source": [
    "plt.figure(figsize=(10,6))\n",
    "sns.heatmap(df.corr(),cmap='Blues')"
   ]
  },
  {
   "cell_type": "code",
   "execution_count": 369,
   "metadata": {},
   "outputs": [],
   "source": [
    "df['Date'] = pd.to_datetime(df.Date,format='%Y-%m-%d')\n",
    "df.index = df['Date']"
   ]
  },
  {
   "cell_type": "code",
   "execution_count": 370,
   "metadata": {},
   "outputs": [
    {
     "data": {
      "text/plain": [
       "[<matplotlib.lines.Line2D at 0x22655fa3cc0>]"
      ]
     },
     "execution_count": 370,
     "metadata": {},
     "output_type": "execute_result"
    },
    {
     "data": {
      "image/png": "[encoded data removed]",
      "text/plain": [
       "<Figure size 1152x576 with 1 Axes>"
      ]
     },
     "metadata": {},
     "output_type": "display_data"
    }
   ],
   "source": [
    "plt.figure(figsize=(16,8))\n",
    "plt.plot(df['Close'], label='Close Price history')"
   ]
  },
  {
   "cell_type": "code",
   "execution_count": 371,
   "metadata": {},
   "outputs": [],
   "source": [
    "df1=df"
   ]
  },
  {
   "cell_type": "code",
   "execution_count": 372,
   "metadata": {},
   "outputs": [],
   "source": [
    "data = df.sort_index(ascending=True, axis=0)"
   ]
  },
  {
   "cell_type": "code",
   "execution_count": 373,
   "metadata": {},
   "outputs": [],
   "source": [
    "new_data = pd.DataFrame(index=range(0,len(df)),columns=['Date', 'Close'])\n",
    "\n",
    "for i in range(0,len(data)):\n",
    "    new_data['Date'][i] = data['Date'][i]\n",
    "    new_data['Close'][i] = data['Close'][i]"
   ]
  },
  {
   "cell_type": "code",
   "execution_count": null,
   "metadata": {},
   "outputs": [],
   "source": []
  },
  {
   "cell_type": "code",
   "execution_count": null,
   "metadata": {},
   "outputs": [],
   "source": []
  },
  {
   "cell_type": "code",
   "execution_count": null,
   "metadata": {},
   "outputs": [],
   "source": [
    "\n"
   ]
  },
  {
   "cell_type": "code",
   "execution_count": 374,
   "metadata": {},
   "outputs": [],
   "source": [
    "#sns.heatmap(df2.corr())\n",
    "#from sklearn.model_selection import train_test_split\n"
   ]
  },
  {
   "cell_type": "code",
   "execution_count": 375,
   "metadata": {},
   "outputs": [],
   "source": [
    "#X=df.drop(['Volume','Date','Close',],axis=1)\n",
    "#y=df['Close']"
   ]
  },
  {
   "cell_type": "code",
   "execution_count": 376,
   "metadata": {},
   "outputs": [],
   "source": [
    "#X_train, X_test, y_train, y_test = train_test_split(X, y, test_size=0.33, random_state=42)"
   ]
  },
  {
   "cell_type": "code",
   "execution_count": 377,
   "metadata": {},
   "outputs": [],
   "source": [
    "#from sklearn.linear_model import LinearRegression"
   ]
  },
  {
   "cell_type": "code",
   "execution_count": 378,
   "metadata": {},
   "outputs": [],
   "source": [
    "#model = LinearRegression()"
   ]
  },
  {
   "cell_type": "code",
   "execution_count": 379,
   "metadata": {},
   "outputs": [
    {
     "data": {
      "text/plain": [
       "LinearRegression(copy_X=True, fit_intercept=True, n_jobs=1, normalize=False)"
      ]
     },
     "execution_count": 379,
     "metadata": {},
     "output_type": "execute_result"
    }
   ],
   "source": [
    "#model.fit(X_train,y_train)"
   ]
  },
  {
   "cell_type": "code",
   "execution_count": 380,
   "metadata": {},
   "outputs": [
    {
     "name": "stdout",
     "output_type": "stream",
     "text": [
      "120.22387690681782\n"
     ]
    }
   ],
   "source": [
    "#preds = model.predict(X_test)\n",
    "#rms=np.sqrt(np.mean(np.power((np.array(y_test)-np.array(preds)),2)))\n",
    "#print(rms)"
   ]
  },
  {
   "cell_type": "code",
   "execution_count": 381,
   "metadata": {},
   "outputs": [
    {
     "data": {
      "text/plain": [
       "array([42259.71142257, 41234.53729757, 43766.06635669, 43664.66959943,\n",
       "       49989.14693415, 43241.42296464, 47121.51577832, 42645.19970296,\n",
       "       42054.51111351, 46931.02635804])"
      ]
     },
     "execution_count": 381,
     "metadata": {},
     "output_type": "execute_result"
    }
   ],
   "source": [
    "#preds[:10]"
   ]
  },
  {
   "cell_type": "code",
   "execution_count": 382,
   "metadata": {},
   "outputs": [
    {
     "data": {
      "text/plain": [
       "Date\n",
       "2018-11-22    42450.0\n",
       "2018-10-29    41400.0\n",
       "2019-06-03    43800.0\n",
       "2019-08-26    43600.0\n",
       "2019-10-14    50000.0\n",
       "2019-08-09    43150.0\n",
       "2019-07-26    47150.0\n",
       "2019-05-30    42550.0\n",
       "2018-11-01    42150.0\n",
       "2019-04-05    46850.0\n",
       "Name: Close, dtype: float64"
      ]
     },
     "execution_count": 382,
     "metadata": {},
     "output_type": "execute_result"
    }
   ],
   "source": [
    "#y_test[0:10]"
   ]
  },
  {
   "cell_type": "code",
   "execution_count": 383,
   "metadata": {},
   "outputs": [
    {
     "data": {
      "text/plain": [
       "99.7597942485603"
      ]
     },
     "execution_count": 383,
     "metadata": {},
     "output_type": "execute_result"
    }
   ],
   "source": [
    "#model.score(X_test,y_test)*100"
   ]
  },
  {
   "cell_type": "code",
   "execution_count": null,
   "metadata": {},
   "outputs": [],
   "source": []
  },
  {
   "cell_type": "code",
   "execution_count": 384,
   "metadata": {},
   "outputs": [
    {
     "name": "stdout",
     "output_type": "stream",
     "text": [
      "Help on function mean_squared_error in module sklearn.metrics.regression:\n",
      "\n",
      "mean_squared_error(y_true, y_pred, sample_weight=None, multioutput='uniform_average')\n",
      "    Mean squared error regression loss\n",
      "    \n",
      "    Read more in the :ref:`User Guide <mean_squared_error>`.\n",
      "    \n",
      "    Parameters\n",
      "    ----------\n",
      "    y_true : array-like of shape = (n_samples) or (n_samples, n_outputs)\n",
      "        Ground truth (correct) target values.\n",
      "    \n",
      "    y_pred : array-like of shape = (n_samples) or (n_samples, n_outputs)\n",
      "        Estimated target values.\n",
      "    \n",
      "    sample_weight : array-like of shape = (n_samples), optional\n",
      "        Sample weights.\n",
      "    \n",
      "    multioutput : string in ['raw_values', 'uniform_average']\n",
      "        or array-like of shape (n_outputs)\n",
      "        Defines aggregating of multiple output values.\n",
      "        Array-like value defines weights used to average errors.\n",
      "    \n",
      "        'raw_values' :\n",
      "            Returns a full set of errors in case of multioutput input.\n",
      "    \n",
      "        'uniform_average' :\n",
      "            Errors of all outputs are averaged with uniform weight.\n",
      "    \n",
      "    Returns\n",
      "    -------\n",
      "    loss : float or ndarray of floats\n",
      "        A non-negative floating point value (the best value is 0.0), or an\n",
      "        array of floating point values, one for each individual target.\n",
      "    \n",
      "    Examples\n",
      "    --------\n",
      "    >>> from sklearn.metrics import mean_squared_error\n",
      "    >>> y_true = [3, -0.5, 2, 7]\n",
      "    >>> y_pred = [2.5, 0.0, 2, 8]\n",
      "    >>> mean_squared_error(y_true, y_pred)\n",
      "    0.375\n",
      "    >>> y_true = [[0.5, 1],[-1, 1],[7, -6]]\n",
      "    >>> y_pred = [[0, 2],[-1, 2],[8, -5]]\n",
      "    >>> mean_squared_error(y_true, y_pred)  # doctest: +ELLIPSIS\n",
      "    0.708...\n",
      "    >>> mean_squared_error(y_true, y_pred, multioutput='raw_values')\n",
      "    ... # doctest: +ELLIPSIS\n",
      "    array([ 0.416...,  1.        ])\n",
      "    >>> mean_squared_error(y_true, y_pred, multioutput=[0.3, 0.7])\n",
      "    ... # doctest: +ELLIPSIS\n",
      "    0.824...\n",
      "\n"
     ]
    }
   ],
   "source": [
    "#from sklearn.metrics import mean_squared_error\n",
    "#help(mean_squared_error)"
   ]
  },
  {
   "cell_type": "code",
   "execution_count": 385,
   "metadata": {},
   "outputs": [
    {
     "data": {
      "image/png": "[encoded data removed]",
      "text/plain": [
       "<Figure size 432x288 with 1 Axes>"
      ]
     },
     "metadata": {},
     "output_type": "display_data"
    }
   ],
   "source": [
    "#actual_values = y_test\n",
    "#plt.scatter(preds, actual_values, alpha=.7,\n",
    "#            color='b') #alpha helps to show overlapping data\n",
    "#plt.xlabel('Predicted')\n",
    "#plt.ylabel('Actual')\n",
    "#plt.title('Linear Regression Model')\n",
    "#plt.show()"
   ]
  },
  {
   "cell_type": "code",
   "execution_count": 386,
   "metadata": {},
   "outputs": [],
   "source": [
    "#-----------------------------------------------------------------------------------------------------"
   ]
  },
  {
   "cell_type": "code",
   "execution_count": 387,
   "metadata": {},
   "outputs": [],
   "source": [
    "#df2=df"
   ]
  },
  {
   "cell_type": "code",
   "execution_count": 388,
   "metadata": {},
   "outputs": [],
   "source": [
    "#from sklearn import neighbors\n",
    "#from sklearn.model_selection import GridSearchCV"
   ]
  },
  {
   "cell_type": "code",
   "execution_count": 389,
   "metadata": {},
   "outputs": [],
   "source": [
    "#from sklearn.model_selection import train_test_split"
   ]
  },
  {
   "cell_type": "code",
   "execution_count": 390,
   "metadata": {},
   "outputs": [],
   "source": [
    "#X=df2.drop(['Volume','Date'],axis=1)\n",
    "#y=df2['Close']"
   ]
  },
  {
   "cell_type": "code",
   "execution_count": 391,
   "metadata": {},
   "outputs": [],
   "source": [
    "#X_train, X_test, y_train, y_test = train_test_split(X, y, test_size=0.33, random_state=42)"
   ]
  },
  {
   "cell_type": "code",
   "execution_count": 392,
   "metadata": {},
   "outputs": [],
   "source": [
    "#params = {'n_neighbors':[2,3,4,5,6,7,8,9]}\n",
    "#knn = neighbors.KNeighborsRegressor()\n",
    "#model = GridSearchCV(knn, params, cv=5)"
   ]
  },
  {
   "cell_type": "code",
   "execution_count": 393,
   "metadata": {},
   "outputs": [],
   "source": [
    "#model.fit(X_train,y_train)\n",
    "#preds = model.predict(X_test)"
   ]
  },
  {
   "cell_type": "code",
   "execution_count": 394,
   "metadata": {},
   "outputs": [
    {
     "data": {
      "text/plain": [
       "211.3202545900416"
      ]
     },
     "execution_count": 394,
     "metadata": {},
     "output_type": "execute_result"
    }
   ],
   "source": [
    "#rms=np.sqrt(np.mean(np.power((np.array(y_test)-np.array(preds)),2)))\n",
    "#rms"
   ]
  },
  {
   "cell_type": "code",
   "execution_count": 395,
   "metadata": {},
   "outputs": [],
   "source": [
    "#----------------------------------------------------------------------------------------------------"
   ]
  },
  {
   "cell_type": "code",
   "execution_count": 396,
   "metadata": {},
   "outputs": [],
   "source": [
    "#from pyramid.arima import auto_arima"
   ]
  },
  {
   "cell_type": "code",
   "execution_count": 397,
   "metadata": {},
   "outputs": [],
   "source": [
    "#df3=df"
   ]
  },
  {
   "cell_type": "code",
   "execution_count": 398,
   "metadata": {},
   "outputs": [],
   "source": [
    "#data = df.sort_index(ascending=True, axis=0)"
   ]
  },
  {
   "cell_type": "code",
   "execution_count": 399,
   "metadata": {},
   "outputs": [],
   "source": [
    "#train = data[:192]\n",
    "#valid = data[192:]"
   ]
  },
  {
   "cell_type": "code",
   "execution_count": 400,
   "metadata": {},
   "outputs": [],
   "source": [
    "#training = train['High']\n",
    "#validation = valid['High']"
   ]
  },
  {
   "cell_type": "code",
   "execution_count": 401,
   "metadata": {},
   "outputs": [
    {
     "name": "stdout",
     "output_type": "stream",
     "text": [
      "Fit ARIMA: order=(1, 1, 1) seasonal_order=(0, 1, 1, 12); AIC=2917.290, BIC=2933.227, Fit time=2.782 seconds\n",
      "Fit ARIMA: order=(0, 1, 0) seasonal_order=(0, 1, 0, 12); AIC=2938.326, BIC=2944.701, Fit time=0.093 seconds\n",
      "Fit ARIMA: order=(1, 1, 0) seasonal_order=(1, 1, 0, 12); AIC=2922.161, BIC=2934.910, Fit time=0.586 seconds\n",
      "Fit ARIMA: order=(0, 1, 1) seasonal_order=(0, 1, 1, 12); AIC=2916.697, BIC=2929.446, Fit time=1.324 seconds\n",
      "Fit ARIMA: order=(0, 1, 1) seasonal_order=(1, 1, 1, 12); AIC=2916.624, BIC=2932.561, Fit time=1.763 seconds\n",
      "Fit ARIMA: order=(0, 1, 1) seasonal_order=(1, 1, 0, 12); AIC=2919.310, BIC=2932.059, Fit time=1.050 seconds\n",
      "Fit ARIMA: order=(0, 1, 1) seasonal_order=(1, 1, 2, 12); AIC=2918.358, BIC=2937.483, Fit time=7.051 seconds\n",
      "Fit ARIMA: order=(0, 1, 1) seasonal_order=(0, 1, 0, 12); AIC=2940.151, BIC=2949.713, Fit time=0.369 seconds\n",
      "Fit ARIMA: order=(0, 1, 1) seasonal_order=(2, 1, 2, 12); AIC=2919.436, BIC=2941.748, Fit time=8.455 seconds\n",
      "Fit ARIMA: order=(1, 1, 1) seasonal_order=(1, 1, 1, 12); AIC=2917.079, BIC=2936.203, Fit time=3.520 seconds\n",
      "Fit ARIMA: order=(0, 1, 0) seasonal_order=(1, 1, 1, 12); AIC=2914.797, BIC=2927.546, Fit time=1.932 seconds\n",
      "Fit ARIMA: order=(0, 1, 0) seasonal_order=(0, 1, 1, 12); AIC=2915.173, BIC=2924.735, Fit time=0.732 seconds\n",
      "Fit ARIMA: order=(0, 1, 0) seasonal_order=(2, 1, 1, 12); AIC=2916.401, BIC=2932.338, Fit time=6.979 seconds\n",
      "Fit ARIMA: order=(0, 1, 0) seasonal_order=(1, 1, 0, 12); AIC=2917.842, BIC=2927.404, Fit time=0.707 seconds\n",
      "Fit ARIMA: order=(0, 1, 0) seasonal_order=(1, 1, 2, 12); AIC=2916.643, BIC=2932.580, Fit time=7.904 seconds\n",
      "Fit ARIMA: order=(0, 1, 0) seasonal_order=(2, 1, 2, 12); AIC=2917.986, BIC=2937.111, Fit time=15.931 seconds\n",
      "Fit ARIMA: order=(1, 1, 0) seasonal_order=(1, 1, 1, 12); AIC=2917.003, BIC=2932.940, Fit time=2.065 seconds\n",
      "Total fit time: 63.254 seconds\n"
     ]
    }
   ],
   "source": [
    "#model = auto_arima(training, start_p=1, start_q=1,max_p=3, max_q=3, m=12,start_P=0, seasonal=True,d=1, D=1, trace=True,error_action='ignore',suppress_warnings=True)"
   ]
  },
  {
   "cell_type": "code",
   "execution_count": 402,
   "metadata": {},
   "outputs": [
    {
     "data": {
      "text/plain": [
       "ARIMA(callback=None, disp=0, maxiter=50, method=None, order=(0, 1, 0),\n",
       "   out_of_sample_size=0, scoring='mse', scoring_args={},\n",
       "   seasonal_order=(1, 1, 1, 12), solver='lbfgs', start_params=None,\n",
       "   suppress_warnings=True, transparams=True, trend='c')"
      ]
     },
     "execution_count": 402,
     "metadata": {},
     "output_type": "execute_result"
    }
   ],
   "source": [
    "#model.fit(training)"
   ]
  },
  {
   "cell_type": "code",
   "execution_count": 403,
   "metadata": {},
   "outputs": [],
   "source": [
    "#forecast = model.predict(n_periods=50)"
   ]
  },
  {
   "cell_type": "code",
   "execution_count": 404,
   "metadata": {},
   "outputs": [],
   "source": [
    "#forecast = pd.DataFrame(forecast,index = valid.index,columns=['Prediction'])"
   ]
  },
  {
   "cell_type": "code",
   "execution_count": 405,
   "metadata": {},
   "outputs": [
    {
     "data": {
      "text/plain": [
       "Date\n",
       "2019-07-30    46850.0\n",
       "2019-07-31    46600.0\n",
       "2019-08-01    45500.0\n",
       "2019-08-05    44600.0\n",
       "2019-08-06    43800.0\n",
       "2019-08-07    43900.0\n",
       "2019-08-08    43500.0\n",
       "2019-08-09    43350.0\n",
       "2019-08-12    44000.0\n",
       "2019-08-13    43500.0\n",
       "Name: High, dtype: float64"
      ]
     },
     "execution_count": 405,
     "metadata": {},
     "output_type": "execute_result"
    }
   ],
   "source": [
    "#validation[:10]"
   ]
  },
  {
   "cell_type": "code",
   "execution_count": 406,
   "metadata": {},
   "outputs": [
    {
     "data": {
      "text/html": [
       "<div>\n",
       "<style scoped>\n",
       "    .dataframe tbody tr th:only-of-type {\n",
       "        vertical-align: middle;\n",
       "    }\n",
       "\n",
       "    .dataframe tbody tr th {\n",
       "        vertical-align: top;\n",
       "    }\n",
       "\n",
       "    .dataframe thead th {\n",
       "        text-align: right;\n",
       "    }\n",
       "</style>\n",
       "<table border=\"1\" class=\"dataframe\">\n",
       "  <thead>\n",
       "    <tr style=\"text-align: right;\">\n",
       "      <th></th>\n",
       "      <th>Prediction</th>\n",
       "    </tr>\n",
       "    <tr>\n",
       "      <th>Date</th>\n",
       "      <th></th>\n",
       "    </tr>\n",
       "  </thead>\n",
       "  <tbody>\n",
       "    <tr>\n",
       "      <th>2019-07-30</th>\n",
       "      <td>46961.964946</td>\n",
       "    </tr>\n",
       "    <tr>\n",
       "      <th>2019-07-31</th>\n",
       "      <td>47192.747302</td>\n",
       "    </tr>\n",
       "    <tr>\n",
       "      <th>2019-08-01</th>\n",
       "      <td>47336.976458</td>\n",
       "    </tr>\n",
       "    <tr>\n",
       "      <th>2019-08-05</th>\n",
       "      <td>46893.338252</td>\n",
       "    </tr>\n",
       "    <tr>\n",
       "      <th>2019-08-06</th>\n",
       "      <td>46839.369782</td>\n",
       "    </tr>\n",
       "    <tr>\n",
       "      <th>2019-08-07</th>\n",
       "      <td>47053.867881</td>\n",
       "    </tr>\n",
       "    <tr>\n",
       "      <th>2019-08-08</th>\n",
       "      <td>47322.314699</td>\n",
       "    </tr>\n",
       "    <tr>\n",
       "      <th>2019-08-09</th>\n",
       "      <td>47503.443659</td>\n",
       "    </tr>\n",
       "    <tr>\n",
       "      <th>2019-08-12</th>\n",
       "      <td>47086.037522</td>\n",
       "    </tr>\n",
       "    <tr>\n",
       "      <th>2019-08-13</th>\n",
       "      <td>47191.186842</td>\n",
       "    </tr>\n",
       "  </tbody>\n",
       "</table>\n",
       "</div>"
      ],
      "text/plain": [
       "              Prediction\n",
       "Date                    \n",
       "2019-07-30  46961.964946\n",
       "2019-07-31  47192.747302\n",
       "2019-08-01  47336.976458\n",
       "2019-08-05  46893.338252\n",
       "2019-08-06  46839.369782\n",
       "2019-08-07  47053.867881\n",
       "2019-08-08  47322.314699\n",
       "2019-08-09  47503.443659\n",
       "2019-08-12  47086.037522\n",
       "2019-08-13  47191.186842"
      ]
     },
     "execution_count": 406,
     "metadata": {},
     "output_type": "execute_result"
    }
   ],
   "source": [
    "#forecast[:10]"
   ]
  },
  {
   "cell_type": "code",
   "execution_count": 407,
   "metadata": {},
   "outputs": [
    {
     "data": {
      "text/plain": [
       "2798.3830003959283"
      ]
     },
     "execution_count": 407,
     "metadata": {},
     "output_type": "execute_result"
    }
   ],
   "source": [
    "#rms=np.sqrt(np.mean(np.power((np.array(valid['Close'])-np.array(forecast['Prediction'])),2)))#\n",
    "#rms"
   ]
  },
  {
   "cell_type": "code",
   "execution_count": 408,
   "metadata": {},
   "outputs": [
    {
     "data": {
      "text/plain": [
       "[<matplotlib.lines.Line2D at 0x22664ce5358>]"
      ]
     },
     "execution_count": 408,
     "metadata": {},
     "output_type": "execute_result"
    },
    {
     "data": {
      "image/png": "[encoded data removed]",
      "text/plain": [
       "<Figure size 720x432 with 1 Axes>"
      ]
     },
     "metadata": {},
     "output_type": "display_data"
    }
   ],
   "source": [
    "#plt.figure(figsize=(10,6))\n",
    "#plt.plot(train['Close'])\n",
    "#plt.plot(valid['Close'])\n",
    "#plt.plot(forecast['Prediction'])"
   ]
  },
  {
   "cell_type": "code",
   "execution_count": 409,
   "metadata": {},
   "outputs": [],
   "source": [
    "#------------------------------------------------------------------------------------------"
   ]
  },
  {
   "cell_type": "code",
   "execution_count": 410,
   "metadata": {},
   "outputs": [],
   "source": [
    "#from sklearn.preprocessing import MinMaxScaler\n",
    "#from keras.models import Sequential\n",
    "#from keras.layers import Dense, Dropout, LSTM"
   ]
  },
  {
   "cell_type": "code",
   "execution_count": 411,
   "metadata": {},
   "outputs": [],
   "source": [
    "#data = df.sort_index(ascending=True, axis=0)\n",
    "#new_data = pd.DataFrame(index=range(0,len(df)),columns=['Date', 'High'])\n",
    "#for i in range(0,len(data)):\n",
    "#    new_data['Date'][i] = data['Date'][i]\n",
    "#    new_data['High'][i] = data['High'][i]"
   ]
  },
  {
   "cell_type": "code",
   "execution_count": 412,
   "metadata": {},
   "outputs": [],
   "source": [
    "#new_data.index = new_data.Date\n",
    "#new_data.drop('Date', axis=1, inplace=True)"
   ]
  },
  {
   "cell_type": "code",
   "execution_count": 413,
   "metadata": {},
   "outputs": [],
   "source": [
    "#dataset = new_data.values"
   ]
  },
  {
   "cell_type": "code",
   "execution_count": 414,
   "metadata": {},
   "outputs": [],
   "source": [
    "#train = dataset[0:192,:]\n",
    "#valid = dataset[192:,:]"
   ]
  },
  {
   "cell_type": "code",
   "execution_count": 415,
   "metadata": {},
   "outputs": [
    {
     "name": "stderr",
     "output_type": "stream",
     "text": [
      "C:\\Users\\dell\\Anaconda3_\\lib\\site-packages\\sklearn\\utils\\validation.py:475: DataConversionWarning: Data with input dtype object was converted to float64 by MinMaxScaler.\n",
      "  warnings.warn(msg, DataConversionWarning)\n"
     ]
    }
   ],
   "source": [
    "#scaler = MinMaxScaler(feature_range=(0, 1))\n",
    "#scaled_data = scaler.fit_transform(dataset)"
   ]
  },
  {
   "cell_type": "code",
   "execution_count": 416,
   "metadata": {},
   "outputs": [],
   "source": [
    "#x_train, y_train = [], []\n",
    "#for i in range(60,len(train)):\n",
    "#    x_train.append(scaled_data[i-60:i,0])\n",
    "#    y_train.append(scaled_data[i,0])\n",
    "#x_train, y_train = np.array(x_train), np.array(y_train)"
   ]
  },
  {
   "cell_type": "code",
   "execution_count": 417,
   "metadata": {},
   "outputs": [],
   "source": [
    "#x_train = np.reshape(x_train, (x_train.shape[0],x_train.shape[1],1))"
   ]
  },
  {
   "cell_type": "code",
   "execution_count": 418,
   "metadata": {},
   "outputs": [],
   "source": [
    "#model = Sequential()\n",
    "#model.add(LSTM(units=50,return_sequences=True, input_shape=(x_train.shape[1],1)))\n",
    "#model.add(LSTM(units=50))\n",
    "#model.add(Dense(1))"
   ]
  },
  {
   "cell_type": "code",
   "execution_count": null,
   "metadata": {},
   "outputs": [],
   "source": []
  },
  {
   "cell_type": "code",
   "execution_count": 421,
   "metadata": {},
   "outputs": [
    {
     "name": "stdout",
     "output_type": "stream",
     "text": [
      "Epoch 1/1\n",
      " - 25s - loss: 0.0153\n"
     ]
    },
    {
     "data": {
      "text/plain": [
       "<keras.callbacks.History at 0x226564b3c88>"
      ]
     },
     "execution_count": 421,
     "metadata": {},
     "output_type": "execute_result"
    }
   ],
   "source": [
    "#model.compile(loss='mean_squared_error', optimizer='adam')\n",
    "#model.fit(x_train, y_train, epochs=1, batch_size=1, verbose=2)"
   ]
  },
  {
   "cell_type": "code",
   "execution_count": 427,
   "metadata": {},
   "outputs": [],
   "source": [
    "#inputs = new_data[len(new_data) - len(valid) - 60:].values\n",
    "#inputs = inputs.reshape(-1,1)\n",
    "#inputs  = scaler.transform(inputs)\n",
    "\n",
    "#X_test = []\n",
    "#for i in range(60,inputs.shape[0]):\n",
    "#    X_test.append(inputs[i-60:i,0])\n",
    "#X_test = np.array(X_test)"
   ]
  },
  {
   "cell_type": "code",
   "execution_count": 428,
   "metadata": {},
   "outputs": [],
   "source": [
    "#X_test = np.reshape(X_test, (X_test.shape[0],X_test.shape[1],1))\n",
    "#closing_price = model.predict(X_test)\n",
    "#closing_price = scaler.inverse_transform(closing_price)"
   ]
  },
  {
   "cell_type": "code",
   "execution_count": 432,
   "metadata": {},
   "outputs": [],
   "source": [
    "#rms=np.sqrt(np.mean(np.power((valid-closing_price),2)))\n",
    "#rms"
   ]
  },
  {
   "cell_type": "code",
   "execution_count": 433,
   "metadata": {},
   "outputs": [
    {
     "name": "stderr",
     "output_type": "stream",
     "text": [
      "C:\\Users\\dell\\Anaconda3_\\lib\\site-packages\\ipykernel_launcher.py:4: SettingWithCopyWarning: \n",
      "A value is trying to be set on a copy of a slice from a DataFrame.\n",
      "Try using .loc[row_indexer,col_indexer] = value instead\n",
      "\n",
      "See the caveats in the documentation: http://pandas.pydata.org/pandas-docs/stable/indexing.html#indexing-view-versus-copy\n",
      "  after removing the cwd from sys.path.\n"
     ]
    },
    {
     "data": {
      "text/plain": [
       "[<matplotlib.lines.Line2D at 0x22651c36d30>,\n",
       " <matplotlib.lines.Line2D at 0x22651c369e8>]"
      ]
     },
     "execution_count": 433,
     "metadata": {},
     "output_type": "execute_result"
    },
    {
     "data": {
      "image/png": "[encoded data removed]",
      "text/plain": [
       "<Figure size 720x432 with 1 Axes>"
      ]
     },
     "metadata": {},
     "output_type": "display_data"
    }
   ],
   "source": [
    "#plt.figure(figsize=(10,6))\n",
    "#train = new_data[:192]\n",
    "#valid = new_data[192:]\n",
    "#valid['Predictions'] = closing_price\n",
    "#plt.plot(train['High'])\n",
    "#plt.plot(valid[['High','Predictions']])"
   ]
  },
  {
   "cell_type": "code",
   "execution_count": 434,
   "metadata": {},
   "outputs": [],
   "source": [
    "#--------------------------------------------------------------------------------------------"
   ]
  },
  {
   "cell_type": "code",
   "execution_count": 435,
   "metadata": {},
   "outputs": [],
   "source": [
    "df3=df.iloc[:192,:]"
   ]
  },
  {
   "cell_type": "code",
   "execution_count": 436,
   "metadata": {},
   "outputs": [
    {
     "data": {
      "text/html": [
       "<div>\n",
       "<style scoped>\n",
       "    .dataframe tbody tr th:only-of-type {\n",
       "        vertical-align: middle;\n",
       "    }\n",
       "\n",
       "    .dataframe tbody tr th {\n",
       "        vertical-align: top;\n",
       "    }\n",
       "\n",
       "    .dataframe thead th {\n",
       "        text-align: right;\n",
       "    }\n",
       "</style>\n",
       "<table border=\"1\" class=\"dataframe\">\n",
       "  <thead>\n",
       "    <tr style=\"text-align: right;\">\n",
       "      <th></th>\n",
       "      <th>Date</th>\n",
       "      <th>Open</th>\n",
       "      <th>High</th>\n",
       "      <th>Low</th>\n",
       "      <th>Close</th>\n",
       "      <th>Adj Close</th>\n",
       "      <th>Volume</th>\n",
       "    </tr>\n",
       "    <tr>\n",
       "      <th>Date</th>\n",
       "      <th></th>\n",
       "      <th></th>\n",
       "      <th></th>\n",
       "      <th></th>\n",
       "      <th></th>\n",
       "      <th></th>\n",
       "      <th></th>\n",
       "    </tr>\n",
       "  </thead>\n",
       "  <tbody>\n",
       "    <tr>\n",
       "      <th>2019-07-30</th>\n",
       "      <td>2019-07-30</td>\n",
       "      <td>46300.0</td>\n",
       "      <td>46850.0</td>\n",
       "      <td>46300.0</td>\n",
       "      <td>46550.0</td>\n",
       "      <td>46550.0</td>\n",
       "      <td>5551014.0</td>\n",
       "    </tr>\n",
       "    <tr>\n",
       "      <th>2019-07-31</th>\n",
       "      <td>2019-07-31</td>\n",
       "      <td>46200.0</td>\n",
       "      <td>46600.0</td>\n",
       "      <td>45000.0</td>\n",
       "      <td>45350.0</td>\n",
       "      <td>45350.0</td>\n",
       "      <td>12872916.0</td>\n",
       "    </tr>\n",
       "    <tr>\n",
       "      <th>2019-08-01</th>\n",
       "      <td>2019-08-01</td>\n",
       "      <td>44900.0</td>\n",
       "      <td>45500.0</td>\n",
       "      <td>44850.0</td>\n",
       "      <td>45200.0</td>\n",
       "      <td>45200.0</td>\n",
       "      <td>7811181.0</td>\n",
       "    </tr>\n",
       "    <tr>\n",
       "      <th>2019-08-05</th>\n",
       "      <td>2019-08-05</td>\n",
       "      <td>44350.0</td>\n",
       "      <td>44600.0</td>\n",
       "      <td>43600.0</td>\n",
       "      <td>43950.0</td>\n",
       "      <td>43950.0</td>\n",
       "      <td>14214086.0</td>\n",
       "    </tr>\n",
       "    <tr>\n",
       "      <th>2019-08-06</th>\n",
       "      <td>2019-08-06</td>\n",
       "      <td>42500.0</td>\n",
       "      <td>43800.0</td>\n",
       "      <td>42500.0</td>\n",
       "      <td>43500.0</td>\n",
       "      <td>43500.0</td>\n",
       "      <td>15083824.0</td>\n",
       "    </tr>\n",
       "    <tr>\n",
       "      <th>2019-08-07</th>\n",
       "      <td>2019-08-07</td>\n",
       "      <td>43600.0</td>\n",
       "      <td>43900.0</td>\n",
       "      <td>43100.0</td>\n",
       "      <td>43200.0</td>\n",
       "      <td>43200.0</td>\n",
       "      <td>10002533.0</td>\n",
       "    </tr>\n",
       "    <tr>\n",
       "      <th>2019-08-08</th>\n",
       "      <td>2019-08-08</td>\n",
       "      <td>43250.0</td>\n",
       "      <td>43500.0</td>\n",
       "      <td>42650.0</td>\n",
       "      <td>42650.0</td>\n",
       "      <td>42650.0</td>\n",
       "      <td>16926881.0</td>\n",
       "    </tr>\n",
       "    <tr>\n",
       "      <th>2019-08-09</th>\n",
       "      <td>2019-08-09</td>\n",
       "      <td>43250.0</td>\n",
       "      <td>43350.0</td>\n",
       "      <td>43050.0</td>\n",
       "      <td>43150.0</td>\n",
       "      <td>43150.0</td>\n",
       "      <td>9685147.0</td>\n",
       "    </tr>\n",
       "    <tr>\n",
       "      <th>2019-08-12</th>\n",
       "      <td>2019-08-12</td>\n",
       "      <td>44000.0</td>\n",
       "      <td>44000.0</td>\n",
       "      <td>43550.0</td>\n",
       "      <td>43700.0</td>\n",
       "      <td>43700.0</td>\n",
       "      <td>8466169.0</td>\n",
       "    </tr>\n",
       "    <tr>\n",
       "      <th>2019-08-13</th>\n",
       "      <td>2019-08-13</td>\n",
       "      <td>43500.0</td>\n",
       "      <td>43500.0</td>\n",
       "      <td>42950.0</td>\n",
       "      <td>43000.0</td>\n",
       "      <td>43000.0</td>\n",
       "      <td>7276979.0</td>\n",
       "    </tr>\n",
       "    <tr>\n",
       "      <th>2019-08-14</th>\n",
       "      <td>2019-08-14</td>\n",
       "      <td>43900.0</td>\n",
       "      <td>44250.0</td>\n",
       "      <td>43500.0</td>\n",
       "      <td>43700.0</td>\n",
       "      <td>43700.0</td>\n",
       "      <td>8750135.0</td>\n",
       "    </tr>\n",
       "    <tr>\n",
       "      <th>2019-08-16</th>\n",
       "      <td>2019-08-16</td>\n",
       "      <td>43800.0</td>\n",
       "      <td>43900.0</td>\n",
       "      <td>43300.0</td>\n",
       "      <td>43900.0</td>\n",
       "      <td>43900.0</td>\n",
       "      <td>9528115.0</td>\n",
       "    </tr>\n",
       "    <tr>\n",
       "      <th>2019-08-19</th>\n",
       "      <td>2019-08-19</td>\n",
       "      <td>44350.0</td>\n",
       "      <td>44350.0</td>\n",
       "      <td>43500.0</td>\n",
       "      <td>43600.0</td>\n",
       "      <td>43600.0</td>\n",
       "      <td>6014218.0</td>\n",
       "    </tr>\n",
       "    <tr>\n",
       "      <th>2019-08-20</th>\n",
       "      <td>2019-08-20</td>\n",
       "      <td>43950.0</td>\n",
       "      <td>44600.0</td>\n",
       "      <td>43550.0</td>\n",
       "      <td>44450.0</td>\n",
       "      <td>44450.0</td>\n",
       "      <td>8434205.0</td>\n",
       "    </tr>\n",
       "    <tr>\n",
       "      <th>2019-08-21</th>\n",
       "      <td>2019-08-21</td>\n",
       "      <td>44350.0</td>\n",
       "      <td>44800.0</td>\n",
       "      <td>44150.0</td>\n",
       "      <td>44500.0</td>\n",
       "      <td>44500.0</td>\n",
       "      <td>6571717.0</td>\n",
       "    </tr>\n",
       "    <tr>\n",
       "      <th>2019-08-22</th>\n",
       "      <td>2019-08-22</td>\n",
       "      <td>44500.0</td>\n",
       "      <td>44700.0</td>\n",
       "      <td>43850.0</td>\n",
       "      <td>44050.0</td>\n",
       "      <td>44050.0</td>\n",
       "      <td>8061177.0</td>\n",
       "    </tr>\n",
       "    <tr>\n",
       "      <th>2019-08-23</th>\n",
       "      <td>2019-08-23</td>\n",
       "      <td>43800.0</td>\n",
       "      <td>44200.0</td>\n",
       "      <td>43650.0</td>\n",
       "      <td>43950.0</td>\n",
       "      <td>43950.0</td>\n",
       "      <td>5017381.0</td>\n",
       "    </tr>\n",
       "    <tr>\n",
       "      <th>2019-08-26</th>\n",
       "      <td>2019-08-26</td>\n",
       "      <td>43050.0</td>\n",
       "      <td>43800.0</td>\n",
       "      <td>42950.0</td>\n",
       "      <td>43600.0</td>\n",
       "      <td>43600.0</td>\n",
       "      <td>7954949.0</td>\n",
       "    </tr>\n",
       "    <tr>\n",
       "      <th>2019-08-27</th>\n",
       "      <td>2019-08-27</td>\n",
       "      <td>43650.0</td>\n",
       "      <td>44200.0</td>\n",
       "      <td>43600.0</td>\n",
       "      <td>44050.0</td>\n",
       "      <td>44050.0</td>\n",
       "      <td>16883932.0</td>\n",
       "    </tr>\n",
       "    <tr>\n",
       "      <th>2019-08-28</th>\n",
       "      <td>2019-08-28</td>\n",
       "      <td>44100.0</td>\n",
       "      <td>44400.0</td>\n",
       "      <td>43750.0</td>\n",
       "      <td>44150.0</td>\n",
       "      <td>44150.0</td>\n",
       "      <td>5758333.0</td>\n",
       "    </tr>\n",
       "    <tr>\n",
       "      <th>2019-08-29</th>\n",
       "      <td>2019-08-29</td>\n",
       "      <td>44200.0</td>\n",
       "      <td>44200.0</td>\n",
       "      <td>43050.0</td>\n",
       "      <td>43400.0</td>\n",
       "      <td>43400.0</td>\n",
       "      <td>10768862.0</td>\n",
       "    </tr>\n",
       "    <tr>\n",
       "      <th>2019-08-30</th>\n",
       "      <td>2019-08-30</td>\n",
       "      <td>43750.0</td>\n",
       "      <td>44300.0</td>\n",
       "      <td>43750.0</td>\n",
       "      <td>44000.0</td>\n",
       "      <td>44000.0</td>\n",
       "      <td>9899073.0</td>\n",
       "    </tr>\n",
       "    <tr>\n",
       "      <th>2019-09-02</th>\n",
       "      <td>2019-09-02</td>\n",
       "      <td>44850.0</td>\n",
       "      <td>44850.0</td>\n",
       "      <td>43650.0</td>\n",
       "      <td>43800.0</td>\n",
       "      <td>43800.0</td>\n",
       "      <td>7185537.0</td>\n",
       "    </tr>\n",
       "    <tr>\n",
       "      <th>2019-09-04</th>\n",
       "      <td>2019-09-04</td>\n",
       "      <td>43250.0</td>\n",
       "      <td>44100.0</td>\n",
       "      <td>43150.0</td>\n",
       "      <td>44100.0</td>\n",
       "      <td>44100.0</td>\n",
       "      <td>12441837.0</td>\n",
       "    </tr>\n",
       "    <tr>\n",
       "      <th>2019-09-05</th>\n",
       "      <td>2019-09-05</td>\n",
       "      <td>44800.0</td>\n",
       "      <td>46100.0</td>\n",
       "      <td>44450.0</td>\n",
       "      <td>45700.0</td>\n",
       "      <td>45700.0</td>\n",
       "      <td>18297430.0</td>\n",
       "    </tr>\n",
       "    <tr>\n",
       "      <th>2019-09-06</th>\n",
       "      <td>2019-09-06</td>\n",
       "      <td>46500.0</td>\n",
       "      <td>46500.0</td>\n",
       "      <td>45850.0</td>\n",
       "      <td>46300.0</td>\n",
       "      <td>46300.0</td>\n",
       "      <td>9896562.0</td>\n",
       "    </tr>\n",
       "    <tr>\n",
       "      <th>2019-09-09</th>\n",
       "      <td>2019-09-09</td>\n",
       "      <td>46450.0</td>\n",
       "      <td>47000.0</td>\n",
       "      <td>46300.0</td>\n",
       "      <td>46900.0</td>\n",
       "      <td>46900.0</td>\n",
       "      <td>9434157.0</td>\n",
       "    </tr>\n",
       "    <tr>\n",
       "      <th>2019-09-11</th>\n",
       "      <td>2019-09-11</td>\n",
       "      <td>47300.0</td>\n",
       "      <td>47400.0</td>\n",
       "      <td>46800.0</td>\n",
       "      <td>47150.0</td>\n",
       "      <td>47150.0</td>\n",
       "      <td>16141619.0</td>\n",
       "    </tr>\n",
       "    <tr>\n",
       "      <th>2019-09-16</th>\n",
       "      <td>2019-09-16</td>\n",
       "      <td>47000.0</td>\n",
       "      <td>47100.0</td>\n",
       "      <td>46400.0</td>\n",
       "      <td>47100.0</td>\n",
       "      <td>47100.0</td>\n",
       "      <td>15550926.0</td>\n",
       "    </tr>\n",
       "    <tr>\n",
       "      <th>2019-09-17</th>\n",
       "      <td>2019-09-17</td>\n",
       "      <td>47000.0</td>\n",
       "      <td>47100.0</td>\n",
       "      <td>46800.0</td>\n",
       "      <td>46900.0</td>\n",
       "      <td>46900.0</td>\n",
       "      <td>7006280.0</td>\n",
       "    </tr>\n",
       "    <tr>\n",
       "      <th>2019-09-18</th>\n",
       "      <td>2019-09-18</td>\n",
       "      <td>46900.0</td>\n",
       "      <td>47700.0</td>\n",
       "      <td>46800.0</td>\n",
       "      <td>47700.0</td>\n",
       "      <td>47700.0</td>\n",
       "      <td>10413027.0</td>\n",
       "    </tr>\n",
       "    <tr>\n",
       "      <th>2019-09-19</th>\n",
       "      <td>2019-09-19</td>\n",
       "      <td>48050.0</td>\n",
       "      <td>49200.0</td>\n",
       "      <td>47850.0</td>\n",
       "      <td>49150.0</td>\n",
       "      <td>49150.0</td>\n",
       "      <td>16461413.0</td>\n",
       "    </tr>\n",
       "    <tr>\n",
       "      <th>2019-09-20</th>\n",
       "      <td>2019-09-20</td>\n",
       "      <td>49400.0</td>\n",
       "      <td>49600.0</td>\n",
       "      <td>49100.0</td>\n",
       "      <td>49200.0</td>\n",
       "      <td>49200.0</td>\n",
       "      <td>15460210.0</td>\n",
       "    </tr>\n",
       "    <tr>\n",
       "      <th>2019-09-23</th>\n",
       "      <td>2019-09-23</td>\n",
       "      <td>49250.0</td>\n",
       "      <td>49300.0</td>\n",
       "      <td>49000.0</td>\n",
       "      <td>49300.0</td>\n",
       "      <td>49300.0</td>\n",
       "      <td>7568553.0</td>\n",
       "    </tr>\n",
       "    <tr>\n",
       "      <th>2019-09-24</th>\n",
       "      <td>2019-09-24</td>\n",
       "      <td>49050.0</td>\n",
       "      <td>49650.0</td>\n",
       "      <td>48850.0</td>\n",
       "      <td>49500.0</td>\n",
       "      <td>49500.0</td>\n",
       "      <td>7871955.0</td>\n",
       "    </tr>\n",
       "    <tr>\n",
       "      <th>2019-09-25</th>\n",
       "      <td>2019-09-25</td>\n",
       "      <td>49200.0</td>\n",
       "      <td>49350.0</td>\n",
       "      <td>48800.0</td>\n",
       "      <td>48900.0</td>\n",
       "      <td>48900.0</td>\n",
       "      <td>9187141.0</td>\n",
       "    </tr>\n",
       "    <tr>\n",
       "      <th>2019-09-26</th>\n",
       "      <td>2019-09-26</td>\n",
       "      <td>49000.0</td>\n",
       "      <td>49250.0</td>\n",
       "      <td>48900.0</td>\n",
       "      <td>49200.0</td>\n",
       "      <td>49200.0</td>\n",
       "      <td>8494756.0</td>\n",
       "    </tr>\n",
       "    <tr>\n",
       "      <th>2019-09-27</th>\n",
       "      <td>2019-09-27</td>\n",
       "      <td>48000.0</td>\n",
       "      <td>48700.0</td>\n",
       "      <td>48000.0</td>\n",
       "      <td>48400.0</td>\n",
       "      <td>48400.0</td>\n",
       "      <td>8048041.0</td>\n",
       "    </tr>\n",
       "    <tr>\n",
       "      <th>2019-09-30</th>\n",
       "      <td>2019-09-30</td>\n",
       "      <td>48050.0</td>\n",
       "      <td>49250.0</td>\n",
       "      <td>47900.0</td>\n",
       "      <td>49050.0</td>\n",
       "      <td>49050.0</td>\n",
       "      <td>9497119.0</td>\n",
       "    </tr>\n",
       "    <tr>\n",
       "      <th>2019-10-01</th>\n",
       "      <td>2019-10-01</td>\n",
       "      <td>48900.0</td>\n",
       "      <td>49100.0</td>\n",
       "      <td>48650.0</td>\n",
       "      <td>48850.0</td>\n",
       "      <td>48850.0</td>\n",
       "      <td>6206035.0</td>\n",
       "    </tr>\n",
       "    <tr>\n",
       "      <th>2019-10-02</th>\n",
       "      <td>2019-10-02</td>\n",
       "      <td>48350.0</td>\n",
       "      <td>48400.0</td>\n",
       "      <td>47600.0</td>\n",
       "      <td>47600.0</td>\n",
       "      <td>47600.0</td>\n",
       "      <td>8382463.0</td>\n",
       "    </tr>\n",
       "    <tr>\n",
       "      <th>2019-10-07</th>\n",
       "      <td>2019-10-07</td>\n",
       "      <td>48350.0</td>\n",
       "      <td>48700.0</td>\n",
       "      <td>47650.0</td>\n",
       "      <td>47750.0</td>\n",
       "      <td>47750.0</td>\n",
       "      <td>7047273.0</td>\n",
       "    </tr>\n",
       "    <tr>\n",
       "      <th>2019-10-08</th>\n",
       "      <td>2019-10-08</td>\n",
       "      <td>47900.0</td>\n",
       "      <td>49000.0</td>\n",
       "      <td>47600.0</td>\n",
       "      <td>48900.0</td>\n",
       "      <td>48900.0</td>\n",
       "      <td>14239367.0</td>\n",
       "    </tr>\n",
       "    <tr>\n",
       "      <th>2019-10-10</th>\n",
       "      <td>2019-10-10</td>\n",
       "      <td>48200.0</td>\n",
       "      <td>49200.0</td>\n",
       "      <td>48000.0</td>\n",
       "      <td>48550.0</td>\n",
       "      <td>48550.0</td>\n",
       "      <td>18639855.0</td>\n",
       "    </tr>\n",
       "    <tr>\n",
       "      <th>2019-10-11</th>\n",
       "      <td>2019-10-11</td>\n",
       "      <td>49000.0</td>\n",
       "      <td>49450.0</td>\n",
       "      <td>48800.0</td>\n",
       "      <td>49150.0</td>\n",
       "      <td>49150.0</td>\n",
       "      <td>7783275.0</td>\n",
       "    </tr>\n",
       "    <tr>\n",
       "      <th>2019-10-14</th>\n",
       "      <td>2019-10-14</td>\n",
       "      <td>50000.0</td>\n",
       "      <td>50300.0</td>\n",
       "      <td>49850.0</td>\n",
       "      <td>50000.0</td>\n",
       "      <td>50000.0</td>\n",
       "      <td>11130635.0</td>\n",
       "    </tr>\n",
       "    <tr>\n",
       "      <th>2019-10-15</th>\n",
       "      <td>2019-10-15</td>\n",
       "      <td>49900.0</td>\n",
       "      <td>50200.0</td>\n",
       "      <td>49900.0</td>\n",
       "      <td>50100.0</td>\n",
       "      <td>50100.0</td>\n",
       "      <td>6058105.0</td>\n",
       "    </tr>\n",
       "    <tr>\n",
       "      <th>2019-10-16</th>\n",
       "      <td>2019-10-16</td>\n",
       "      <td>50700.0</td>\n",
       "      <td>50900.0</td>\n",
       "      <td>50400.0</td>\n",
       "      <td>50700.0</td>\n",
       "      <td>50700.0</td>\n",
       "      <td>9136282.0</td>\n",
       "    </tr>\n",
       "    <tr>\n",
       "      <th>2019-10-17</th>\n",
       "      <td>2019-10-17</td>\n",
       "      <td>50500.0</td>\n",
       "      <td>50600.0</td>\n",
       "      <td>50100.0</td>\n",
       "      <td>50500.0</td>\n",
       "      <td>50500.0</td>\n",
       "      <td>6701380.0</td>\n",
       "    </tr>\n",
       "    <tr>\n",
       "      <th>2019-10-18</th>\n",
       "      <td>2019-10-18</td>\n",
       "      <td>50300.0</td>\n",
       "      <td>50900.0</td>\n",
       "      <td>49650.0</td>\n",
       "      <td>49900.0</td>\n",
       "      <td>49900.0</td>\n",
       "      <td>8483106.0</td>\n",
       "    </tr>\n",
       "  </tbody>\n",
       "</table>\n",
       "</div>"
      ],
      "text/plain": [
       "                 Date     Open     High      Low    Close  Adj Close  \\\n",
       "Date                                                                   \n",
       "2019-07-30 2019-07-30  46300.0  46850.0  46300.0  46550.0    46550.0   \n",
       "2019-07-31 2019-07-31  46200.0  46600.0  45000.0  45350.0    45350.0   \n",
       "2019-08-01 2019-08-01  44900.0  45500.0  44850.0  45200.0    45200.0   \n",
       "2019-08-05 2019-08-05  44350.0  44600.0  43600.0  43950.0    43950.0   \n",
       "2019-08-06 2019-08-06  42500.0  43800.0  42500.0  43500.0    43500.0   \n",
       "2019-08-07 2019-08-07  43600.0  43900.0  43100.0  43200.0    43200.0   \n",
       "2019-08-08 2019-08-08  43250.0  43500.0  42650.0  42650.0    42650.0   \n",
       "2019-08-09 2019-08-09  43250.0  43350.0  43050.0  43150.0    43150.0   \n",
       "2019-08-12 2019-08-12  44000.0  44000.0  43550.0  43700.0    43700.0   \n",
       "2019-08-13 2019-08-13  43500.0  43500.0  42950.0  43000.0    43000.0   \n",
       "2019-08-14 2019-08-14  43900.0  44250.0  43500.0  43700.0    43700.0   \n",
       "2019-08-16 2019-08-16  43800.0  43900.0  43300.0  43900.0    43900.0   \n",
       "2019-08-19 2019-08-19  44350.0  44350.0  43500.0  43600.0    43600.0   \n",
       "2019-08-20 2019-08-20  43950.0  44600.0  43550.0  44450.0    44450.0   \n",
       "2019-08-21 2019-08-21  44350.0  44800.0  44150.0  44500.0    44500.0   \n",
       "2019-08-22 2019-08-22  44500.0  44700.0  43850.0  44050.0    44050.0   \n",
       "2019-08-23 2019-08-23  43800.0  44200.0  43650.0  43950.0    43950.0   \n",
       "2019-08-26 2019-08-26  43050.0  43800.0  42950.0  43600.0    43600.0   \n",
       "2019-08-27 2019-08-27  43650.0  44200.0  43600.0  44050.0    44050.0   \n",
       "2019-08-28 2019-08-28  44100.0  44400.0  43750.0  44150.0    44150.0   \n",
       "2019-08-29 2019-08-29  44200.0  44200.0  43050.0  43400.0    43400.0   \n",
       "2019-08-30 2019-08-30  43750.0  44300.0  43750.0  44000.0    44000.0   \n",
       "2019-09-02 2019-09-02  44850.0  44850.0  43650.0  43800.0    43800.0   \n",
       "2019-09-04 2019-09-04  43250.0  44100.0  43150.0  44100.0    44100.0   \n",
       "2019-09-05 2019-09-05  44800.0  46100.0  44450.0  45700.0    45700.0   \n",
       "2019-09-06 2019-09-06  46500.0  46500.0  45850.0  46300.0    46300.0   \n",
       "2019-09-09 2019-09-09  46450.0  47000.0  46300.0  46900.0    46900.0   \n",
       "2019-09-11 2019-09-11  47300.0  47400.0  46800.0  47150.0    47150.0   \n",
       "2019-09-16 2019-09-16  47000.0  47100.0  46400.0  47100.0    47100.0   \n",
       "2019-09-17 2019-09-17  47000.0  47100.0  46800.0  46900.0    46900.0   \n",
       "2019-09-18 2019-09-18  46900.0  47700.0  46800.0  47700.0    47700.0   \n",
       "2019-09-19 2019-09-19  48050.0  49200.0  47850.0  49150.0    49150.0   \n",
       "2019-09-20 2019-09-20  49400.0  49600.0  49100.0  49200.0    49200.0   \n",
       "2019-09-23 2019-09-23  49250.0  49300.0  49000.0  49300.0    49300.0   \n",
       "2019-09-24 2019-09-24  49050.0  49650.0  48850.0  49500.0    49500.0   \n",
       "2019-09-25 2019-09-25  49200.0  49350.0  48800.0  48900.0    48900.0   \n",
       "2019-09-26 2019-09-26  49000.0  49250.0  48900.0  49200.0    49200.0   \n",
       "2019-09-27 2019-09-27  48000.0  48700.0  48000.0  48400.0    48400.0   \n",
       "2019-09-30 2019-09-30  48050.0  49250.0  47900.0  49050.0    49050.0   \n",
       "2019-10-01 2019-10-01  48900.0  49100.0  48650.0  48850.0    48850.0   \n",
       "2019-10-02 2019-10-02  48350.0  48400.0  47600.0  47600.0    47600.0   \n",
       "2019-10-07 2019-10-07  48350.0  48700.0  47650.0  47750.0    47750.0   \n",
       "2019-10-08 2019-10-08  47900.0  49000.0  47600.0  48900.0    48900.0   \n",
       "2019-10-10 2019-10-10  48200.0  49200.0  48000.0  48550.0    48550.0   \n",
       "2019-10-11 2019-10-11  49000.0  49450.0  48800.0  49150.0    49150.0   \n",
       "2019-10-14 2019-10-14  50000.0  50300.0  49850.0  50000.0    50000.0   \n",
       "2019-10-15 2019-10-15  49900.0  50200.0  49900.0  50100.0    50100.0   \n",
       "2019-10-16 2019-10-16  50700.0  50900.0  50400.0  50700.0    50700.0   \n",
       "2019-10-17 2019-10-17  50500.0  50600.0  50100.0  50500.0    50500.0   \n",
       "2019-10-18 2019-10-18  50300.0  50900.0  49650.0  49900.0    49900.0   \n",
       "\n",
       "                Volume  \n",
       "Date                    \n",
       "2019-07-30   5551014.0  \n",
       "2019-07-31  12872916.0  \n",
       "2019-08-01   7811181.0  \n",
       "2019-08-05  14214086.0  \n",
       "2019-08-06  15083824.0  \n",
       "2019-08-07  10002533.0  \n",
       "2019-08-08  16926881.0  \n",
       "2019-08-09   9685147.0  \n",
       "2019-08-12   8466169.0  \n",
       "2019-08-13   7276979.0  \n",
       "2019-08-14   8750135.0  \n",
       "2019-08-16   9528115.0  \n",
       "2019-08-19   6014218.0  \n",
       "2019-08-20   8434205.0  \n",
       "2019-08-21   6571717.0  \n",
       "2019-08-22   8061177.0  \n",
       "2019-08-23   5017381.0  \n",
       "2019-08-26   7954949.0  \n",
       "2019-08-27  16883932.0  \n",
       "2019-08-28   5758333.0  \n",
       "2019-08-29  10768862.0  \n",
       "2019-08-30   9899073.0  \n",
       "2019-09-02   7185537.0  \n",
       "2019-09-04  12441837.0  \n",
       "2019-09-05  18297430.0  \n",
       "2019-09-06   9896562.0  \n",
       "2019-09-09   9434157.0  \n",
       "2019-09-11  16141619.0  \n",
       "2019-09-16  15550926.0  \n",
       "2019-09-17   7006280.0  \n",
       "2019-09-18  10413027.0  \n",
       "2019-09-19  16461413.0  \n",
       "2019-09-20  15460210.0  \n",
       "2019-09-23   7568553.0  \n",
       "2019-09-24   7871955.0  \n",
       "2019-09-25   9187141.0  \n",
       "2019-09-26   8494756.0  \n",
       "2019-09-27   8048041.0  \n",
       "2019-09-30   9497119.0  \n",
       "2019-10-01   6206035.0  \n",
       "2019-10-02   8382463.0  \n",
       "2019-10-07   7047273.0  \n",
       "2019-10-08  14239367.0  \n",
       "2019-10-10  18639855.0  \n",
       "2019-10-11   7783275.0  \n",
       "2019-10-14  11130635.0  \n",
       "2019-10-15   6058105.0  \n",
       "2019-10-16   9136282.0  \n",
       "2019-10-17   6701380.0  \n",
       "2019-10-18   8483106.0  "
      ]
     },
     "execution_count": 436,
     "metadata": {},
     "output_type": "execute_result"
    }
   ],
   "source": [
    "df.iloc[192:,:]"
   ]
  },
  {
   "cell_type": "code",
   "execution_count": 437,
   "metadata": {},
   "outputs": [
    {
     "name": "stderr",
     "output_type": "stream",
     "text": [
      "C:\\Users\\dell\\Anaconda3_\\lib\\site-packages\\pandas\\core\\frame.py:3694: SettingWithCopyWarning: \n",
      "A value is trying to be set on a copy of a slice from a DataFrame\n",
      "\n",
      "See the caveats in the documentation: http://pandas.pydata.org/pandas-docs/stable/indexing.html#indexing-view-versus-copy\n",
      "  errors=errors)\n"
     ]
    }
   ],
   "source": [
    "df3.drop('Date',inplace=True,axis=1)"
   ]
  },
  {
   "cell_type": "code",
   "execution_count": 438,
   "metadata": {},
   "outputs": [],
   "source": [
    "training_set = df3.iloc[:,1:2].values"
   ]
  },
  {
   "cell_type": "code",
   "execution_count": 439,
   "metadata": {},
   "outputs": [],
   "source": [
    "sc = MinMaxScaler(feature_range=(0,1))"
   ]
  },
  {
   "cell_type": "code",
   "execution_count": 440,
   "metadata": {},
   "outputs": [],
   "source": [
    "training_set_scaled = sc.fit_transform(training_set)"
   ]
  },
  {
   "cell_type": "code",
   "execution_count": null,
   "metadata": {},
   "outputs": [],
   "source": []
  },
  {
   "cell_type": "code",
   "execution_count": 441,
   "metadata": {},
   "outputs": [],
   "source": [
    "X_train = []\n",
    "y_train = []\n",
    "for i in range(7, len(training_set_scaled)):\n",
    "    X_train.append(training_set_scaled[i-7:i, 0])\n",
    "    y_train.append(training_set_scaled[i, 0])\n",
    "X_train, y_train = np.array(X_train), np.array(y_train)"
   ]
  },
  {
   "cell_type": "code",
   "execution_count": 442,
   "metadata": {},
   "outputs": [],
   "source": [
    "X_train = np.reshape(X_train, (X_train.shape[0], X_train.shape[1], 1))\n"
   ]
  },
  {
   "cell_type": "code",
   "execution_count": 443,
   "metadata": {},
   "outputs": [],
   "source": [
    "from keras.models import Sequential\n",
    "from keras.layers import Dense\n",
    "from keras.layers import LSTM\n",
    "from keras.layers import Dropout\n",
    "\n",
    "# Initialising the RNN\n",
    "regressor = Sequential()\n",
    "\n",
    "# Adding the first LSTM layer and some Dropout regularisation\n",
    "regressor.add(LSTM(units = 50, return_sequences = True, input_shape = (X_train.shape[1], 1)))\n",
    "regressor.add(Dropout(0.2))\n"
   ]
  },
  {
   "cell_type": "code",
   "execution_count": 444,
   "metadata": {},
   "outputs": [],
   "source": [
    "# Adding a second LSTM layer and some Dropout regularisation\n",
    "regressor.add(LSTM(units = 50, return_sequences = True))\n",
    "regressor.add(Dropout(0.2))\n",
    "\n",
    "# Adding a third LSTM layer and some Dropout regularisation\n",
    "regressor.add(LSTM(units = 50, return_sequences = True))\n",
    "regressor.add(Dropout(0.2))\n",
    "\n",
    "# Adding a fourth LSTM layer and some Dropout regularisation\n",
    "regressor.add(LSTM(units = 50))\n",
    "regressor.add(Dropout(0.2))\n",
    "\n",
    "# Adding the output layer\n",
    "regressor.add(Dense(units = 1))"
   ]
  },
  {
   "cell_type": "code",
   "execution_count": 445,
   "metadata": {},
   "outputs": [],
   "source": [
    "regressor.compile(optimizer = 'adam', loss = 'mean_squared_error')"
   ]
  },
  {
   "cell_type": "code",
   "execution_count": 446,
   "metadata": {},
   "outputs": [
    {
     "name": "stdout",
     "output_type": "stream",
     "text": [
      "Epoch 1/100\n",
      "185/185 [==============================] - 10s 55ms/step - loss: 0.4431\n",
      "Epoch 2/100\n",
      "185/185 [==============================] - 0s 2ms/step - loss: 0.2181\n",
      "Epoch 3/100\n",
      "185/185 [==============================] - 0s 2ms/step - loss: 0.0694\n",
      "Epoch 4/100\n",
      "185/185 [==============================] - 0s 2ms/step - loss: 0.0415\n",
      "Epoch 5/100\n",
      "185/185 [==============================] - 0s 2ms/step - loss: 0.0438\n",
      "Epoch 6/100\n",
      "185/185 [==============================] - 0s 2ms/step - loss: 0.0343\n",
      "Epoch 7/100\n",
      "185/185 [==============================] - 0s 2ms/step - loss: 0.0360\n",
      "Epoch 8/100\n",
      "185/185 [==============================] - 0s 2ms/step - loss: 0.0326\n",
      "Epoch 9/100\n",
      "185/185 [==============================] - 0s 2ms/step - loss: 0.0298\n",
      "Epoch 10/100\n",
      "185/185 [==============================] - 0s 1ms/step - loss: 0.0315\n",
      "Epoch 11/100\n",
      "185/185 [==============================] - 0s 2ms/step - loss: 0.0270\n",
      "Epoch 12/100\n",
      "185/185 [==============================] - 0s 2ms/step - loss: 0.0263\n",
      "Epoch 13/100\n",
      "185/185 [==============================] - 0s 2ms/step - loss: 0.0289\n",
      "Epoch 14/100\n",
      "185/185 [==============================] - 0s 2ms/step - loss: 0.0267\n",
      "Epoch 15/100\n",
      "185/185 [==============================] - 0s 2ms/step - loss: 0.0250\n",
      "Epoch 16/100\n",
      "185/185 [==============================] - 0s 2ms/step - loss: 0.0261\n",
      "Epoch 17/100\n",
      "185/185 [==============================] - 0s 2ms/step - loss: 0.0259\n",
      "Epoch 18/100\n",
      "185/185 [==============================] - 0s 2ms/step - loss: 0.0246\n",
      "Epoch 19/100\n",
      "185/185 [==============================] - 0s 2ms/step - loss: 0.0249A: 0s - loss: 0.0\n",
      "Epoch 20/100\n",
      "185/185 [==============================] - 0s 2ms/step - loss: 0.0219\n",
      "Epoch 21/100\n",
      "185/185 [==============================] - 0s 2ms/step - loss: 0.0212\n",
      "Epoch 22/100\n",
      "185/185 [==============================] - 0s 2ms/step - loss: 0.0240\n",
      "Epoch 23/100\n",
      "185/185 [==============================] - 0s 2ms/step - loss: 0.0226\n",
      "Epoch 24/100\n",
      "185/185 [==============================] - 0s 2ms/step - loss: 0.0254\n",
      "Epoch 25/100\n",
      "185/185 [==============================] - 0s 2ms/step - loss: 0.0255\n",
      "Epoch 26/100\n",
      "185/185 [==============================] - 0s 2ms/step - loss: 0.0245\n",
      "Epoch 27/100\n",
      "185/185 [==============================] - 0s 2ms/step - loss: 0.0250\n",
      "Epoch 28/100\n",
      "185/185 [==============================] - 0s 2ms/step - loss: 0.0248\n",
      "Epoch 29/100\n",
      "185/185 [==============================] - 0s 2ms/step - loss: 0.0210\n",
      "Epoch 30/100\n",
      "185/185 [==============================] - 0s 2ms/step - loss: 0.0246\n",
      "Epoch 31/100\n",
      "185/185 [==============================] - 0s 2ms/step - loss: 0.0232\n",
      "Epoch 32/100\n",
      "185/185 [==============================] - 0s 2ms/step - loss: 0.0203\n",
      "Epoch 33/100\n",
      "185/185 [==============================] - 0s 2ms/step - loss: 0.0240\n",
      "Epoch 34/100\n",
      "185/185 [==============================] - 0s 2ms/step - loss: 0.0253\n",
      "Epoch 35/100\n",
      "185/185 [==============================] - 0s 2ms/step - loss: 0.0229\n",
      "Epoch 36/100\n",
      "185/185 [==============================] - 0s 2ms/step - loss: 0.0227\n",
      "Epoch 37/100\n",
      "185/185 [==============================] - 0s 2ms/step - loss: 0.0246\n",
      "Epoch 38/100\n",
      "185/185 [==============================] - 0s 2ms/step - loss: 0.0231\n",
      "Epoch 39/100\n",
      "185/185 [==============================] - 0s 2ms/step - loss: 0.0229\n",
      "Epoch 40/100\n",
      "185/185 [==============================] - 0s 2ms/step - loss: 0.0231\n",
      "Epoch 41/100\n",
      "185/185 [==============================] - 0s 2ms/step - loss: 0.0201\n",
      "Epoch 42/100\n",
      "185/185 [==============================] - 0s 2ms/step - loss: 0.0232\n",
      "Epoch 43/100\n",
      "185/185 [==============================] - 0s 2ms/step - loss: 0.0209\n",
      "Epoch 44/100\n",
      "185/185 [==============================] - 0s 2ms/step - loss: 0.0222\n",
      "Epoch 45/100\n",
      "185/185 [==============================] - 0s 2ms/step - loss: 0.0224\n",
      "Epoch 46/100\n",
      "185/185 [==============================] - 0s 2ms/step - loss: 0.0229\n",
      "Epoch 47/100\n",
      "185/185 [==============================] - 0s 2ms/step - loss: 0.0229\n",
      "Epoch 48/100\n",
      "185/185 [==============================] - 0s 2ms/step - loss: 0.0223\n",
      "Epoch 49/100\n",
      "185/185 [==============================] - 0s 2ms/step - loss: 0.0230\n",
      "Epoch 50/100\n",
      "185/185 [==============================] - 0s 2ms/step - loss: 0.0229\n",
      "Epoch 51/100\n",
      "185/185 [==============================] - 0s 2ms/step - loss: 0.0213\n",
      "Epoch 52/100\n",
      "185/185 [==============================] - 0s 2ms/step - loss: 0.0220\n",
      "Epoch 53/100\n",
      "185/185 [==============================] - 0s 1ms/step - loss: 0.0206\n",
      "Epoch 54/100\n",
      "185/185 [==============================] - 0s 2ms/step - loss: 0.0198\n",
      "Epoch 55/100\n",
      "185/185 [==============================] - 0s 2ms/step - loss: 0.0224\n",
      "Epoch 56/100\n",
      "185/185 [==============================] - ETA: 0s - loss: 0.0196- ETA: 0s - loss: 0.02 - 0s 2ms/step - loss: 0.0200\n",
      "Epoch 57/100\n",
      "185/185 [==============================] - 0s 2ms/step - loss: 0.0228\n",
      "Epoch 58/100\n",
      "185/185 [==============================] - 0s 2ms/step - loss: 0.0211\n",
      "Epoch 59/100\n",
      "185/185 [==============================] - 0s 2ms/step - loss: 0.0217\n",
      "Epoch 60/100\n",
      "185/185 [==============================] - 0s 2ms/step - loss: 0.0193\n",
      "Epoch 61/100\n",
      "185/185 [==============================] - ETA: 0s - loss: 0.019 - 0s 2ms/step - loss: 0.0190\n",
      "Epoch 62/100\n",
      "185/185 [==============================] - 0s 2ms/step - loss: 0.0208\n",
      "Epoch 63/100\n",
      "185/185 [==============================] - 0s 2ms/step - loss: 0.0225\n",
      "Epoch 64/100\n",
      "185/185 [==============================] - 0s 2ms/step - loss: 0.0219A: 0s - loss: 0.\n",
      "Epoch 65/100\n",
      "185/185 [==============================] - 0s 2ms/step - loss: 0.0210\n",
      "Epoch 66/100\n",
      "185/185 [==============================] - 0s 2ms/step - loss: 0.0198\n",
      "Epoch 67/100\n",
      "185/185 [==============================] - 0s 2ms/step - loss: 0.0193\n",
      "Epoch 68/100\n",
      "185/185 [==============================] - 0s 2ms/step - loss: 0.0208\n",
      "Epoch 69/100\n",
      "185/185 [==============================] - 0s 2ms/step - loss: 0.0229\n",
      "Epoch 70/100\n",
      "185/185 [==============================] - 0s 2ms/step - loss: 0.0225\n",
      "Epoch 71/100\n",
      "185/185 [==============================] - 0s 2ms/step - loss: 0.0213\n",
      "Epoch 72/100\n",
      "185/185 [==============================] - 0s 2ms/step - loss: 0.0204\n",
      "Epoch 73/100\n",
      "185/185 [==============================] - 0s 2ms/step - loss: 0.0201\n",
      "Epoch 74/100\n",
      "185/185 [==============================] - 0s 2ms/step - loss: 0.0211\n",
      "Epoch 75/100\n",
      "185/185 [==============================] - 0s 2ms/step - loss: 0.0197\n",
      "Epoch 76/100\n",
      "185/185 [==============================] - 0s 2ms/step - loss: 0.0190\n",
      "Epoch 77/100\n",
      "185/185 [==============================] - 0s 2ms/step - loss: 0.0203\n",
      "Epoch 78/100\n",
      "185/185 [==============================] - 0s 2ms/step - loss: 0.0197\n",
      "Epoch 79/100\n",
      "185/185 [==============================] - 0s 2ms/step - loss: 0.0201\n",
      "Epoch 80/100\n",
      "185/185 [==============================] - 0s 2ms/step - loss: 0.0180\n",
      "Epoch 81/100\n",
      "185/185 [==============================] - 0s 2ms/step - loss: 0.0205\n",
      "Epoch 82/100\n",
      "185/185 [==============================] - 0s 2ms/step - loss: 0.0186\n",
      "Epoch 83/100\n",
      "185/185 [==============================] - 0s 2ms/step - loss: 0.0208\n",
      "Epoch 84/100\n",
      "185/185 [==============================] - 0s 2ms/step - loss: 0.0167\n",
      "Epoch 85/100\n",
      "185/185 [==============================] - 0s 2ms/step - loss: 0.0186\n",
      "Epoch 86/100\n",
      "185/185 [==============================] - 0s 2ms/step - loss: 0.0189\n",
      "Epoch 87/100\n",
      "185/185 [==============================] - 0s 2ms/step - loss: 0.0177\n",
      "Epoch 88/100\n",
      "185/185 [==============================] - 0s 2ms/step - loss: 0.0186\n",
      "Epoch 89/100\n",
      "185/185 [==============================] - 0s 2ms/step - loss: 0.0173\n",
      "Epoch 90/100\n",
      "185/185 [==============================] - 0s 2ms/step - loss: 0.0189\n",
      "Epoch 91/100\n",
      "185/185 [==============================] - 0s 2ms/step - loss: 0.0221\n",
      "Epoch 92/100\n",
      "185/185 [==============================] - 0s 2ms/step - loss: 0.0184\n",
      "Epoch 93/100\n",
      "185/185 [==============================] - 0s 2ms/step - loss: 0.0188\n",
      "Epoch 94/100\n",
      "185/185 [==============================] - 0s 2ms/step - loss: 0.0152\n",
      "Epoch 95/100\n",
      "185/185 [==============================] - 0s 2ms/step - loss: 0.0174\n",
      "Epoch 96/100\n",
      "185/185 [==============================] - 0s 2ms/step - loss: 0.0162\n",
      "Epoch 97/100\n",
      "185/185 [==============================] - 0s 2ms/step - loss: 0.0178\n",
      "Epoch 98/100\n"
     ]
    },
    {
     "name": "stdout",
     "output_type": "stream",
     "text": [
      "185/185 [==============================] - 0s 2ms/step - loss: 0.0168\n",
      "Epoch 99/100\n",
      "185/185 [==============================] - 0s 2ms/step - loss: 0.0171\n",
      "Epoch 100/100\n",
      "185/185 [==============================] - 0s 2ms/step - loss: 0.0184\n"
     ]
    },
    {
     "data": {
      "text/plain": [
       "<keras.callbacks.History at 0x22658705cf8>"
      ]
     },
     "execution_count": 446,
     "metadata": {},
     "output_type": "execute_result"
    }
   ],
   "source": [
    "regressor.fit(X_train, y_train, epochs = 100, batch_size = 32)"
   ]
  },
  {
   "cell_type": "code",
   "execution_count": 447,
   "metadata": {},
   "outputs": [],
   "source": [
    "dff = pd.read_csv('C://Users/dell/Desktop/data.csv')\n",
    "dff.dropna(inplace=True)\n",
    "real_stock_price = dataset_test.iloc[:, 1:2].values\n",
    "dataset_test = dff.iloc[192:,:]\n",
    "dataset_train = dff.iloc[:192,:]\n",
    "# Getting the predicted stock price of 2017\n",
    "dataset_total = pd.concat((dataset_train['High'], dataset_test['High']), axis = 0)\n",
    "inputs = dataset_total[len(dataset_total) - len(dataset_test) - 30:].values\n",
    "inputs = inputs.reshape(-1,1)\n",
    "inputs = sc.transform(inputs)"
   ]
  },
  {
   "cell_type": "code",
   "execution_count": 346,
   "metadata": {},
   "outputs": [
    {
     "ename": "IndexError",
     "evalue": "tuple index out of range",
     "output_type": "error",
     "traceback": [
      "\u001b[1;31m---------------------------------------------------------------------------\u001b[0m",
      "\u001b[1;31mIndexError\u001b[0m                                Traceback (most recent call last)",
      "\u001b[1;32m<ipython-input-346-1fd0f79c3a54>\u001b[0m in \u001b[0;36m<module>\u001b[1;34m()\u001b[0m\n\u001b[0;32m      3\u001b[0m     \u001b[0mX_test\u001b[0m\u001b[1;33m.\u001b[0m\u001b[0mappend\u001b[0m\u001b[1;33m(\u001b[0m\u001b[0minputs\u001b[0m\u001b[1;33m[\u001b[0m\u001b[0mi\u001b[0m\u001b[1;33m-\u001b[0m\u001b[1;36m30\u001b[0m\u001b[1;33m:\u001b[0m\u001b[0mi\u001b[0m\u001b[1;33m,\u001b[0m \u001b[1;36m0\u001b[0m\u001b[1;33m]\u001b[0m\u001b[1;33m)\u001b[0m\u001b[1;33m\u001b[0m\u001b[0m\n\u001b[0;32m      4\u001b[0m \u001b[0mX_test\u001b[0m \u001b[1;33m=\u001b[0m \u001b[0mnp\u001b[0m\u001b[1;33m.\u001b[0m\u001b[0marray\u001b[0m\u001b[1;33m(\u001b[0m\u001b[0mX_test\u001b[0m\u001b[1;33m)\u001b[0m\u001b[1;33m\u001b[0m\u001b[0m\n\u001b[1;32m----> 5\u001b[1;33m \u001b[0mX_test\u001b[0m \u001b[1;33m=\u001b[0m \u001b[0mnp\u001b[0m\u001b[1;33m.\u001b[0m\u001b[0mreshape\u001b[0m\u001b[1;33m(\u001b[0m\u001b[0mX_test\u001b[0m\u001b[1;33m,\u001b[0m \u001b[1;33m(\u001b[0m\u001b[0mX_test\u001b[0m\u001b[1;33m.\u001b[0m\u001b[0mshape\u001b[0m\u001b[1;33m[\u001b[0m\u001b[1;36m0\u001b[0m\u001b[1;33m]\u001b[0m\u001b[1;33m,\u001b[0m \u001b[0mX_test\u001b[0m\u001b[1;33m.\u001b[0m\u001b[0mshape\u001b[0m\u001b[1;33m[\u001b[0m\u001b[1;36m1\u001b[0m\u001b[1;33m]\u001b[0m\u001b[1;33m,\u001b[0m \u001b[1;36m1\u001b[0m\u001b[1;33m)\u001b[0m\u001b[1;33m)\u001b[0m\u001b[1;33m\u001b[0m\u001b[0m\n\u001b[0m\u001b[0;32m      6\u001b[0m \u001b[0mpredicted_stock_price\u001b[0m \u001b[1;33m=\u001b[0m \u001b[0mregressor\u001b[0m\u001b[1;33m.\u001b[0m\u001b[0mpredict\u001b[0m\u001b[1;33m(\u001b[0m\u001b[0mX_test\u001b[0m\u001b[1;33m)\u001b[0m\u001b[1;33m\u001b[0m\u001b[0m\n\u001b[0;32m      7\u001b[0m \u001b[0mnew_predicted_stock_price\u001b[0m \u001b[1;33m=\u001b[0m \u001b[0mpredicted_stock_price\u001b[0m\u001b[1;33m\u001b[0m\u001b[0m\n",
      "\u001b[1;31mIndexError\u001b[0m: tuple index out of range"
     ]
    }
   ],
   "source": [
    "X_test = []\n",
    "for i in range(30, 80):\n",
    "    X_test.append(inputs[i-30:i, 0])\n",
    "X_test = np.array(X_test)\n",
    "X_test = np.reshape(X_test, (X_test.shape[0], X_test.shape[1], 1))\n",
    "predicted_stock_price = regressor.predict(X_test)\n",
    "new_predicted_stock_price = predicted_stock_price\n",
    "predicted_stock_price = sc.inverse_transform(predicted_stock_price)"
   ]
  },
  {
   "cell_type": "code",
   "execution_count": 359,
   "metadata": {},
   "outputs": [
    {
     "data": {
      "image/png": "[encoded data removed]",
      "text/plain": [
       "<Figure size 720x432 with 1 Axes>"
      ]
     },
     "metadata": {},
     "output_type": "display_data"
    }
   ],
   "source": [
    "plt.figure(figsize=(10,6))\n",
    "plt.plot(real_stock_price, color = 'red', label = 'Real')\n",
    "plt.plot(predicted_stock_price, color = 'blue', label = 'Predicted')\n",
    "plt.title('Prediction')\n",
    "plt.xlabel('Time')\n",
    "plt.legend()\n",
    "plt.show()"
   ]
  },
  {
   "cell_type": "code",
   "execution_count": 257,
   "metadata": {},
   "outputs": [],
   "source": [
    "predicted = pd.DataFrame(data=predicted_stock_price,columns=['High'])"
   ]
  },
  {
   "cell_type": "code",
   "execution_count": 284,
   "metadata": {},
   "outputs": [],
   "source": [
    "predicted['Date']=0\n",
    "date = datetime.datetime(2019,10,18)\n",
    "for i in range(50): \n",
    "    date += datetime.timedelta(days=1)\n",
    "    predicted.iloc[i,1]=date"
   ]
  },
  {
   "cell_type": "code",
   "execution_count": 288,
   "metadata": {},
   "outputs": [
    {
     "data": {
      "text/html": [
       "<div>\n",
       "<style scoped>\n",
       "    .dataframe tbody tr th:only-of-type {\n",
       "        vertical-align: middle;\n",
       "    }\n",
       "\n",
       "    .dataframe tbody tr th {\n",
       "        vertical-align: top;\n",
       "    }\n",
       "\n",
       "    .dataframe thead th {\n",
       "        text-align: right;\n",
       "    }\n",
       "</style>\n",
       "<table border=\"1\" class=\"dataframe\">\n",
       "  <thead>\n",
       "    <tr style=\"text-align: right;\">\n",
       "      <th></th>\n",
       "      <th>High</th>\n",
       "      <th>Date</th>\n",
       "    </tr>\n",
       "  </thead>\n",
       "  <tbody>\n",
       "    <tr>\n",
       "      <th>0</th>\n",
       "      <td>46627.964844</td>\n",
       "      <td>2019-10-19 00:00:00</td>\n",
       "    </tr>\n",
       "    <tr>\n",
       "      <th>1</th>\n",
       "      <td>46729.933594</td>\n",
       "      <td>2019-10-20 00:00:00</td>\n",
       "    </tr>\n",
       "    <tr>\n",
       "      <th>2</th>\n",
       "      <td>46775.007812</td>\n",
       "      <td>2019-10-21 00:00:00</td>\n",
       "    </tr>\n",
       "    <tr>\n",
       "      <th>3</th>\n",
       "      <td>46754.460938</td>\n",
       "      <td>2019-10-22 00:00:00</td>\n",
       "    </tr>\n",
       "    <tr>\n",
       "      <th>4</th>\n",
       "      <td>46642.988281</td>\n",
       "      <td>2019-10-23 00:00:00</td>\n",
       "    </tr>\n",
       "    <tr>\n",
       "      <th>5</th>\n",
       "      <td>46424.312500</td>\n",
       "      <td>2019-10-24 00:00:00</td>\n",
       "    </tr>\n",
       "    <tr>\n",
       "      <th>6</th>\n",
       "      <td>46098.488281</td>\n",
       "      <td>2019-10-25 00:00:00</td>\n",
       "    </tr>\n",
       "    <tr>\n",
       "      <th>7</th>\n",
       "      <td>45673.152344</td>\n",
       "      <td>2019-10-26 00:00:00</td>\n",
       "    </tr>\n",
       "    <tr>\n",
       "      <th>8</th>\n",
       "      <td>45163.632812</td>\n",
       "      <td>2019-10-27 00:00:00</td>\n",
       "    </tr>\n",
       "    <tr>\n",
       "      <th>9</th>\n",
       "      <td>44612.359375</td>\n",
       "      <td>2019-10-28 00:00:00</td>\n",
       "    </tr>\n",
       "    <tr>\n",
       "      <th>10</th>\n",
       "      <td>44056.082031</td>\n",
       "      <td>2019-10-29 00:00:00</td>\n",
       "    </tr>\n",
       "    <tr>\n",
       "      <th>11</th>\n",
       "      <td>43555.609375</td>\n",
       "      <td>2019-10-30 00:00:00</td>\n",
       "    </tr>\n",
       "    <tr>\n",
       "      <th>12</th>\n",
       "      <td>43150.984375</td>\n",
       "      <td>2019-10-31 00:00:00</td>\n",
       "    </tr>\n",
       "    <tr>\n",
       "      <th>13</th>\n",
       "      <td>42872.328125</td>\n",
       "      <td>2019-11-01 00:00:00</td>\n",
       "    </tr>\n",
       "    <tr>\n",
       "      <th>14</th>\n",
       "      <td>42747.441406</td>\n",
       "      <td>2019-11-02 00:00:00</td>\n",
       "    </tr>\n",
       "    <tr>\n",
       "      <th>15</th>\n",
       "      <td>42801.328125</td>\n",
       "      <td>2019-11-03 00:00:00</td>\n",
       "    </tr>\n",
       "    <tr>\n",
       "      <th>16</th>\n",
       "      <td>42992.781250</td>\n",
       "      <td>2019-11-04 00:00:00</td>\n",
       "    </tr>\n",
       "    <tr>\n",
       "      <th>17</th>\n",
       "      <td>43280.714844</td>\n",
       "      <td>2019-11-05 00:00:00</td>\n",
       "    </tr>\n",
       "    <tr>\n",
       "      <th>18</th>\n",
       "      <td>43612.628906</td>\n",
       "      <td>2019-11-06 00:00:00</td>\n",
       "    </tr>\n",
       "    <tr>\n",
       "      <th>19</th>\n",
       "      <td>43950.300781</td>\n",
       "      <td>2019-11-07 00:00:00</td>\n",
       "    </tr>\n",
       "    <tr>\n",
       "      <th>20</th>\n",
       "      <td>44255.082031</td>\n",
       "      <td>2019-11-08 00:00:00</td>\n",
       "    </tr>\n",
       "    <tr>\n",
       "      <th>21</th>\n",
       "      <td>44505.027344</td>\n",
       "      <td>2019-11-09 00:00:00</td>\n",
       "    </tr>\n",
       "    <tr>\n",
       "      <th>22</th>\n",
       "      <td>44701.214844</td>\n",
       "      <td>2019-11-10 00:00:00</td>\n",
       "    </tr>\n",
       "    <tr>\n",
       "      <th>23</th>\n",
       "      <td>44841.031250</td>\n",
       "      <td>2019-11-11 00:00:00</td>\n",
       "    </tr>\n",
       "    <tr>\n",
       "      <th>24</th>\n",
       "      <td>44917.554688</td>\n",
       "      <td>2019-11-12 00:00:00</td>\n",
       "    </tr>\n",
       "    <tr>\n",
       "      <th>25</th>\n",
       "      <td>44970.230469</td>\n",
       "      <td>2019-11-13 00:00:00</td>\n",
       "    </tr>\n",
       "    <tr>\n",
       "      <th>26</th>\n",
       "      <td>45041.136719</td>\n",
       "      <td>2019-11-14 00:00:00</td>\n",
       "    </tr>\n",
       "    <tr>\n",
       "      <th>27</th>\n",
       "      <td>45174.347656</td>\n",
       "      <td>2019-11-15 00:00:00</td>\n",
       "    </tr>\n",
       "    <tr>\n",
       "      <th>28</th>\n",
       "      <td>45379.742188</td>\n",
       "      <td>2019-11-16 00:00:00</td>\n",
       "    </tr>\n",
       "    <tr>\n",
       "      <th>29</th>\n",
       "      <td>45648.851562</td>\n",
       "      <td>2019-11-17 00:00:00</td>\n",
       "    </tr>\n",
       "    <tr>\n",
       "      <th>30</th>\n",
       "      <td>45955.363281</td>\n",
       "      <td>2019-11-18 00:00:00</td>\n",
       "    </tr>\n",
       "    <tr>\n",
       "      <th>31</th>\n",
       "      <td>46276.980469</td>\n",
       "      <td>2019-11-19 00:00:00</td>\n",
       "    </tr>\n",
       "    <tr>\n",
       "      <th>32</th>\n",
       "      <td>46613.468750</td>\n",
       "      <td>2019-11-20 00:00:00</td>\n",
       "    </tr>\n",
       "    <tr>\n",
       "      <th>33</th>\n",
       "      <td>46975.437500</td>\n",
       "      <td>2019-11-21 00:00:00</td>\n",
       "    </tr>\n",
       "    <tr>\n",
       "      <th>34</th>\n",
       "      <td>47341.171875</td>\n",
       "      <td>2019-11-22 00:00:00</td>\n",
       "    </tr>\n",
       "    <tr>\n",
       "      <th>35</th>\n",
       "      <td>47691.042969</td>\n",
       "      <td>2019-11-23 00:00:00</td>\n",
       "    </tr>\n",
       "    <tr>\n",
       "      <th>36</th>\n",
       "      <td>47991.902344</td>\n",
       "      <td>2019-11-24 00:00:00</td>\n",
       "    </tr>\n",
       "    <tr>\n",
       "      <th>37</th>\n",
       "      <td>48233.550781</td>\n",
       "      <td>2019-11-25 00:00:00</td>\n",
       "    </tr>\n",
       "    <tr>\n",
       "      <th>38</th>\n",
       "      <td>48396.464844</td>\n",
       "      <td>2019-11-26 00:00:00</td>\n",
       "    </tr>\n",
       "    <tr>\n",
       "      <th>39</th>\n",
       "      <td>48476.304688</td>\n",
       "      <td>2019-11-27 00:00:00</td>\n",
       "    </tr>\n",
       "    <tr>\n",
       "      <th>40</th>\n",
       "      <td>48494.023438</td>\n",
       "      <td>2019-11-28 00:00:00</td>\n",
       "    </tr>\n",
       "    <tr>\n",
       "      <th>41</th>\n",
       "      <td>48439.945312</td>\n",
       "      <td>2019-11-29 00:00:00</td>\n",
       "    </tr>\n",
       "    <tr>\n",
       "      <th>42</th>\n",
       "      <td>48337.496094</td>\n",
       "      <td>2019-11-30 00:00:00</td>\n",
       "    </tr>\n",
       "    <tr>\n",
       "      <th>43</th>\n",
       "      <td>48199.191406</td>\n",
       "      <td>2019-12-01 00:00:00</td>\n",
       "    </tr>\n",
       "    <tr>\n",
       "      <th>44</th>\n",
       "      <td>48049.750000</td>\n",
       "      <td>2019-12-02 00:00:00</td>\n",
       "    </tr>\n",
       "    <tr>\n",
       "      <th>45</th>\n",
       "      <td>47912.148438</td>\n",
       "      <td>2019-12-03 00:00:00</td>\n",
       "    </tr>\n",
       "    <tr>\n",
       "      <th>46</th>\n",
       "      <td>47817.292969</td>\n",
       "      <td>2019-12-04 00:00:00</td>\n",
       "    </tr>\n",
       "    <tr>\n",
       "      <th>47</th>\n",
       "      <td>47782.968750</td>\n",
       "      <td>2019-12-05 00:00:00</td>\n",
       "    </tr>\n",
       "    <tr>\n",
       "      <th>48</th>\n",
       "      <td>47820.003906</td>\n",
       "      <td>2019-12-06 00:00:00</td>\n",
       "    </tr>\n",
       "    <tr>\n",
       "      <th>49</th>\n",
       "      <td>47915.511719</td>\n",
       "      <td>2019-12-07 00:00:00</td>\n",
       "    </tr>\n",
       "  </tbody>\n",
       "</table>\n",
       "</div>"
      ],
      "text/plain": [
       "            High                 Date\n",
       "0   46627.964844  2019-10-19 00:00:00\n",
       "1   46729.933594  2019-10-20 00:00:00\n",
       "2   46775.007812  2019-10-21 00:00:00\n",
       "3   46754.460938  2019-10-22 00:00:00\n",
       "4   46642.988281  2019-10-23 00:00:00\n",
       "5   46424.312500  2019-10-24 00:00:00\n",
       "6   46098.488281  2019-10-25 00:00:00\n",
       "7   45673.152344  2019-10-26 00:00:00\n",
       "8   45163.632812  2019-10-27 00:00:00\n",
       "9   44612.359375  2019-10-28 00:00:00\n",
       "10  44056.082031  2019-10-29 00:00:00\n",
       "11  43555.609375  2019-10-30 00:00:00\n",
       "12  43150.984375  2019-10-31 00:00:00\n",
       "13  42872.328125  2019-11-01 00:00:00\n",
       "14  42747.441406  2019-11-02 00:00:00\n",
       "15  42801.328125  2019-11-03 00:00:00\n",
       "16  42992.781250  2019-11-04 00:00:00\n",
       "17  43280.714844  2019-11-05 00:00:00\n",
       "18  43612.628906  2019-11-06 00:00:00\n",
       "19  43950.300781  2019-11-07 00:00:00\n",
       "20  44255.082031  2019-11-08 00:00:00\n",
       "21  44505.027344  2019-11-09 00:00:00\n",
       "22  44701.214844  2019-11-10 00:00:00\n",
       "23  44841.031250  2019-11-11 00:00:00\n",
       "24  44917.554688  2019-11-12 00:00:00\n",
       "25  44970.230469  2019-11-13 00:00:00\n",
       "26  45041.136719  2019-11-14 00:00:00\n",
       "27  45174.347656  2019-11-15 00:00:00\n",
       "28  45379.742188  2019-11-16 00:00:00\n",
       "29  45648.851562  2019-11-17 00:00:00\n",
       "30  45955.363281  2019-11-18 00:00:00\n",
       "31  46276.980469  2019-11-19 00:00:00\n",
       "32  46613.468750  2019-11-20 00:00:00\n",
       "33  46975.437500  2019-11-21 00:00:00\n",
       "34  47341.171875  2019-11-22 00:00:00\n",
       "35  47691.042969  2019-11-23 00:00:00\n",
       "36  47991.902344  2019-11-24 00:00:00\n",
       "37  48233.550781  2019-11-25 00:00:00\n",
       "38  48396.464844  2019-11-26 00:00:00\n",
       "39  48476.304688  2019-11-27 00:00:00\n",
       "40  48494.023438  2019-11-28 00:00:00\n",
       "41  48439.945312  2019-11-29 00:00:00\n",
       "42  48337.496094  2019-11-30 00:00:00\n",
       "43  48199.191406  2019-12-01 00:00:00\n",
       "44  48049.750000  2019-12-02 00:00:00\n",
       "45  47912.148438  2019-12-03 00:00:00\n",
       "46  47817.292969  2019-12-04 00:00:00\n",
       "47  47782.968750  2019-12-05 00:00:00\n",
       "48  47820.003906  2019-12-06 00:00:00\n",
       "49  47915.511719  2019-12-07 00:00:00"
      ]
     },
     "execution_count": 288,
     "metadata": {},
     "output_type": "execute_result"
    }
   ],
   "source": [
    "predicted"
   ]
  },
  {
   "cell_type": "code",
   "execution_count": 295,
   "metadata": {},
   "outputs": [
    {
     "name": "stdout",
     "output_type": "stream",
     "text": [
      "162/162 [==============================] - 0s 1ms/step\n",
      "0.01129200028968446\n"
     ]
    }
   ],
   "source": [
    "\n",
    "print(regressor.evaluate(X_train,y_train))"
   ]
  },
  {
   "cell_type": "code",
   "execution_count": null,
   "metadata": {},
   "outputs": [],
   "source": []
  },
  {
   "cell_type": "code",
   "execution_count": 301,
   "metadata": {},
   "outputs": [],
   "source": [
    "#--------------------------------------------------------------------------------------------"
   ]
  },
  {
   "cell_type": "code",
   "execution_count": 302,
   "metadata": {},
   "outputs": [],
   "source": [
    "df4 = pd.read_csv('C://Users/dell/Desktop/data.csv')"
   ]
  },
  {
   "cell_type": "code",
   "execution_count": 307,
   "metadata": {},
   "outputs": [],
   "source": [
    "\n",
    "dftr=df4.iloc[:192,:]"
   ]
  },
  {
   "cell_type": "code",
   "execution_count": 309,
   "metadata": {},
   "outputs": [
    {
     "name": "stderr",
     "output_type": "stream",
     "text": [
      "C:\\Users\\dell\\Anaconda3_\\lib\\site-packages\\pandas\\core\\frame.py:3694: SettingWithCopyWarning: \n",
      "A value is trying to be set on a copy of a slice from a DataFrame\n",
      "\n",
      "See the caveats in the documentation: http://pandas.pydata.org/pandas-docs/stable/indexing.html#indexing-view-versus-copy\n",
      "  errors=errors)\n"
     ]
    }
   ],
   "source": [
    "dftr.drop('Date',inplace=True,axis=1)"
   ]
  },
  {
   "cell_type": "code",
   "execution_count": 314,
   "metadata": {},
   "outputs": [],
   "source": [
    "training_set = dftr.iloc[:,2:3]"
   ]
  },
  {
   "cell_type": "code",
   "execution_count": 316,
   "metadata": {},
   "outputs": [],
   "source": [
    "training_set_scaled = sc.fit_transform(training_set)"
   ]
  },
  {
   "cell_type": "code",
   "execution_count": 317,
   "metadata": {},
   "outputs": [],
   "source": [
    "X_train = []\n",
    "y_train = []\n",
    "for i in range(30, len(training_set_scaled)):\n",
    "    X_train.append(training_set_scaled[i-30:i, 0])\n",
    "    y_train.append(training_set_scaled[i, 0])\n",
    "X_train, y_train = np.array(X_train), np.array(y_train)"
   ]
  },
  {
   "cell_type": "code",
   "execution_count": 318,
   "metadata": {},
   "outputs": [],
   "source": [
    "X_train = np.reshape(X_train, (X_train.shape[0], X_train.shape[1], 1))\n"
   ]
  },
  {
   "cell_type": "code",
   "execution_count": 319,
   "metadata": {},
   "outputs": [],
   "source": [
    "from keras.models import Sequential\n",
    "from keras.layers import Dense\n",
    "from keras.layers import LSTM\n",
    "from keras.layers import Dropout\n",
    "\n",
    "# Initialising the RNN\n",
    "regressor = Sequential()\n",
    "\n",
    "# Adding the first LSTM layer and some Dropout regularisation\n",
    "regressor.add(LSTM(units = 50, return_sequences = True, input_shape = (X_train.shape[1], 1)))\n",
    "regressor.add(Dropout(0.2))\n"
   ]
  },
  {
   "cell_type": "code",
   "execution_count": 320,
   "metadata": {},
   "outputs": [],
   "source": [
    "# Adding a second LSTM layer and some Dropout regularisation\n",
    "regressor.add(LSTM(units = 50, return_sequences = True))\n",
    "regressor.add(Dropout(0.2))\n",
    "\n",
    "# Adding a third LSTM layer and some Dropout regularisation\n",
    "regressor.add(LSTM(units = 50, return_sequences = True))\n",
    "regressor.add(Dropout(0.2))\n",
    "\n",
    "# Adding a fourth LSTM layer and some Dropout regularisation\n",
    "regressor.add(LSTM(units = 50))\n",
    "regressor.add(Dropout(0.2))\n",
    "\n",
    "# Adding the output layer\n",
    "regressor.add(Dense(units = 1))"
   ]
  },
  {
   "cell_type": "code",
   "execution_count": 321,
   "metadata": {},
   "outputs": [],
   "source": [
    "regressor.compile(optimizer = 'adam', loss = 'mean_squared_error')"
   ]
  },
  {
   "cell_type": "code",
   "execution_count": 322,
   "metadata": {},
   "outputs": [
    {
     "name": "stdout",
     "output_type": "stream",
     "text": [
      "Epoch 1/100\n",
      "162/162 [==============================] - 9s 54ms/step - loss: 0.4044\n",
      "Epoch 2/100\n",
      "162/162 [==============================] - 1s 5ms/step - loss: 0.1022\n",
      "Epoch 3/100\n",
      "162/162 [==============================] - 1s 5ms/step - loss: 0.0525\n",
      "Epoch 4/100\n",
      "162/162 [==============================] - 1s 5ms/step - loss: 0.0624\n",
      "Epoch 5/100\n",
      "162/162 [==============================] - 1s 6ms/step - loss: 0.0529\n",
      "Epoch 6/100\n",
      "162/162 [==============================] - 1s 6ms/step - loss: 0.0471\n",
      "Epoch 7/100\n",
      "162/162 [==============================] - 1s 6ms/step - loss: 0.0466\n",
      "Epoch 8/100\n",
      "162/162 [==============================] - 1s 5ms/step - loss: 0.0469\n",
      "Epoch 9/100\n",
      "162/162 [==============================] - 1s 6ms/step - loss: 0.0461\n",
      "Epoch 10/100\n",
      "162/162 [==============================] - 1s 6ms/step - loss: 0.0423\n",
      "Epoch 11/100\n",
      "162/162 [==============================] - 1s 6ms/step - loss: 0.0416\n",
      "Epoch 12/100\n",
      "162/162 [==============================] - 1s 6ms/step - loss: 0.0445\n",
      "Epoch 13/100\n",
      "162/162 [==============================] - 1s 6ms/step - loss: 0.0409\n",
      "Epoch 14/100\n",
      "162/162 [==============================] - 1s 6ms/step - loss: 0.0373\n",
      "Epoch 15/100\n",
      "162/162 [==============================] - 1s 6ms/step - loss: 0.0345\n",
      "Epoch 16/100\n",
      "162/162 [==============================] - 1s 6ms/step - loss: 0.0368\n",
      "Epoch 17/100\n",
      "162/162 [==============================] - 1s 6ms/step - loss: 0.0340\n",
      "Epoch 18/100\n",
      "162/162 [==============================] - 1s 6ms/step - loss: 0.0368\n",
      "Epoch 19/100\n",
      "162/162 [==============================] - 1s 6ms/step - loss: 0.0360\n",
      "Epoch 20/100\n",
      "162/162 [==============================] - 1s 6ms/step - loss: 0.0269\n",
      "Epoch 21/100\n",
      "162/162 [==============================] - 1s 6ms/step - loss: 0.0311\n",
      "Epoch 22/100\n",
      "162/162 [==============================] - 1s 6ms/step - loss: 0.0282\n",
      "Epoch 23/100\n",
      "162/162 [==============================] - 1s 6ms/step - loss: 0.0313\n",
      "Epoch 24/100\n",
      "162/162 [==============================] - 1s 7ms/step - loss: 0.0237\n",
      "Epoch 25/100\n",
      "162/162 [==============================] - 1s 7ms/step - loss: 0.0191\n",
      "Epoch 26/100\n",
      "162/162 [==============================] - 1s 6ms/step - loss: 0.0221\n",
      "Epoch 27/100\n",
      "162/162 [==============================] - 1s 6ms/step - loss: 0.0332\n",
      "Epoch 28/100\n",
      "162/162 [==============================] - 1s 6ms/step - loss: 0.0321\n",
      "Epoch 29/100\n",
      "162/162 [==============================] - 1s 6ms/step - loss: 0.0220\n",
      "Epoch 30/100\n",
      "162/162 [==============================] - 1s 6ms/step - loss: 0.0229\n",
      "Epoch 31/100\n",
      "162/162 [==============================] - 1s 6ms/step - loss: 0.0244\n",
      "Epoch 32/100\n",
      "162/162 [==============================] - 1s 6ms/step - loss: 0.0222\n",
      "Epoch 33/100\n",
      "162/162 [==============================] - 1s 6ms/step - loss: 0.0232\n",
      "Epoch 34/100\n",
      "162/162 [==============================] - 1s 5ms/step - loss: 0.0208\n",
      "Epoch 35/100\n",
      "162/162 [==============================] - 1s 6ms/step - loss: 0.0221\n",
      "Epoch 36/100\n",
      "162/162 [==============================] - 1s 6ms/step - loss: 0.0180\n",
      "Epoch 37/100\n",
      "162/162 [==============================] - 1s 6ms/step - loss: 0.0240\n",
      "Epoch 38/100\n",
      "162/162 [==============================] - 1s 5ms/step - loss: 0.0181\n",
      "Epoch 39/100\n",
      "162/162 [==============================] - 1s 5ms/step - loss: 0.0175\n",
      "Epoch 40/100\n",
      "162/162 [==============================] - 1s 6ms/step - loss: 0.0201\n",
      "Epoch 41/100\n",
      "162/162 [==============================] - 1s 6ms/step - loss: 0.0183\n",
      "Epoch 42/100\n",
      "162/162 [==============================] - 1s 6ms/step - loss: 0.0225\n",
      "Epoch 43/100\n",
      "162/162 [==============================] - 1s 6ms/step - loss: 0.0191\n",
      "Epoch 44/100\n",
      "162/162 [==============================] - 1s 6ms/step - loss: 0.0233\n",
      "Epoch 45/100\n",
      "162/162 [==============================] - 1s 6ms/step - loss: 0.0194\n",
      "Epoch 46/100\n",
      "162/162 [==============================] - 1s 5ms/step - loss: 0.0200\n",
      "Epoch 47/100\n",
      "162/162 [==============================] - 1s 5ms/step - loss: 0.0218\n",
      "Epoch 48/100\n",
      "162/162 [==============================] - 1s 5ms/step - loss: 0.0217\n",
      "Epoch 49/100\n",
      "162/162 [==============================] - 1s 5ms/step - loss: 0.0195\n",
      "Epoch 50/100\n",
      "162/162 [==============================] - 1s 5ms/step - loss: 0.0182\n",
      "Epoch 51/100\n",
      "162/162 [==============================] - 1s 6ms/step - loss: 0.0180\n",
      "Epoch 52/100\n",
      "162/162 [==============================] - 1s 6ms/step - loss: 0.0161\n",
      "Epoch 53/100\n",
      "162/162 [==============================] - 1s 5ms/step - loss: 0.0172\n",
      "Epoch 54/100\n",
      "162/162 [==============================] - 1s 5ms/step - loss: 0.0167\n",
      "Epoch 55/100\n",
      "162/162 [==============================] - 1s 5ms/step - loss: 0.0193\n",
      "Epoch 56/100\n",
      "162/162 [==============================] - 1s 5ms/step - loss: 0.0184\n",
      "Epoch 57/100\n",
      "162/162 [==============================] - 1s 5ms/step - loss: 0.0182\n",
      "Epoch 58/100\n",
      "162/162 [==============================] - 1s 6ms/step - loss: 0.0161\n",
      "Epoch 59/100\n",
      "162/162 [==============================] - 1s 6ms/step - loss: 0.0204\n",
      "Epoch 60/100\n",
      "162/162 [==============================] - 1s 6ms/step - loss: 0.0172\n",
      "Epoch 61/100\n",
      "162/162 [==============================] - 1s 6ms/step - loss: 0.0162\n",
      "Epoch 62/100\n",
      "162/162 [==============================] - 1s 6ms/step - loss: 0.0187\n",
      "Epoch 63/100\n",
      "162/162 [==============================] - 1s 6ms/step - loss: 0.0173\n",
      "Epoch 64/100\n",
      "162/162 [==============================] - 1s 5ms/step - loss: 0.0182\n",
      "Epoch 65/100\n",
      "162/162 [==============================] - 1s 6ms/step - loss: 0.0183\n",
      "Epoch 66/100\n",
      "162/162 [==============================] - 1s 6ms/step - loss: 0.0173\n",
      "Epoch 67/100\n",
      "162/162 [==============================] - 1s 5ms/step - loss: 0.0182\n",
      "Epoch 68/100\n",
      "162/162 [==============================] - 1s 5ms/step - loss: 0.0174\n",
      "Epoch 69/100\n",
      "162/162 [==============================] - 1s 5ms/step - loss: 0.0168\n",
      "Epoch 70/100\n",
      "162/162 [==============================] - 1s 5ms/step - loss: 0.0145\n",
      "Epoch 71/100\n",
      "162/162 [==============================] - 1s 6ms/step - loss: 0.0169\n",
      "Epoch 72/100\n",
      "162/162 [==============================] - 1s 6ms/step - loss: 0.0148\n",
      "Epoch 73/100\n",
      "162/162 [==============================] - 1s 5ms/step - loss: 0.0147\n",
      "Epoch 74/100\n",
      "162/162 [==============================] - 1s 6ms/step - loss: 0.0148\n",
      "Epoch 75/100\n",
      "162/162 [==============================] - 1s 6ms/step - loss: 0.0198\n",
      "Epoch 76/100\n",
      "162/162 [==============================] - 1s 5ms/step - loss: 0.0185\n",
      "Epoch 77/100\n",
      "162/162 [==============================] - 1s 6ms/step - loss: 0.0182\n",
      "Epoch 78/100\n",
      "162/162 [==============================] - 1s 6ms/step - loss: 0.0171\n",
      "Epoch 79/100\n",
      "162/162 [==============================] - 1s 6ms/step - loss: 0.0166\n",
      "Epoch 80/100\n",
      "162/162 [==============================] - 1s 6ms/step - loss: 0.0141\n",
      "Epoch 81/100\n",
      "162/162 [==============================] - 1s 6ms/step - loss: 0.0141\n",
      "Epoch 82/100\n",
      "162/162 [==============================] - 1s 6ms/step - loss: 0.0146\n",
      "Epoch 83/100\n",
      "162/162 [==============================] - 1s 6ms/step - loss: 0.0150\n",
      "Epoch 84/100\n",
      "162/162 [==============================] - 1s 5ms/step - loss: 0.0150\n",
      "Epoch 85/100\n",
      "162/162 [==============================] - 1s 5ms/step - loss: 0.0169\n",
      "Epoch 86/100\n",
      "162/162 [==============================] - 1s 5ms/step - loss: 0.0171\n",
      "Epoch 87/100\n",
      "162/162 [==============================] - 1s 5ms/step - loss: 0.0169\n",
      "Epoch 88/100\n",
      "162/162 [==============================] - 1s 5ms/step - loss: 0.0149\n",
      "Epoch 89/100\n",
      "162/162 [==============================] - 1s 6ms/step - loss: 0.0210\n",
      "Epoch 90/100\n",
      "162/162 [==============================] - 1s 6ms/step - loss: 0.0172\n",
      "Epoch 91/100\n",
      "162/162 [==============================] - 1s 5ms/step - loss: 0.0158\n",
      "Epoch 92/100\n",
      "162/162 [==============================] - 1s 5ms/step - loss: 0.0212\n",
      "Epoch 93/100\n",
      "162/162 [==============================] - 1s 5ms/step - loss: 0.0194\n",
      "Epoch 94/100\n",
      "162/162 [==============================] - 1s 5ms/step - loss: 0.0155\n",
      "Epoch 95/100\n",
      "162/162 [==============================] - 1s 6ms/step - loss: 0.0159\n",
      "Epoch 96/100\n",
      "162/162 [==============================] - 1s 5ms/step - loss: 0.0146\n",
      "Epoch 97/100\n",
      "162/162 [==============================] - 1s 5ms/step - loss: 0.0197\n",
      "Epoch 98/100\n",
      "162/162 [==============================] - 1s 5ms/step - loss: 0.0165\n",
      "Epoch 99/100\n"
     ]
    },
    {
     "name": "stdout",
     "output_type": "stream",
     "text": [
      "162/162 [==============================] - 1s 5ms/step - loss: 0.0167\n",
      "Epoch 100/100\n",
      "162/162 [==============================] - 1s 5ms/step - loss: 0.0162\n"
     ]
    },
    {
     "data": {
      "text/plain": [
       "<keras.callbacks.History at 0x2264000bc88>"
      ]
     },
     "execution_count": 322,
     "metadata": {},
     "output_type": "execute_result"
    }
   ],
   "source": [
    "regressor.fit(X_train, y_train, epochs = 100, batch_size = 32)"
   ]
  },
  {
   "cell_type": "code",
   "execution_count": 323,
   "metadata": {},
   "outputs": [],
   "source": [
    "dff = pd.read_csv('C://Users/dell/Desktop/data.csv')\n",
    "dff.dropna(inplace=True)\n",
    "real_stock_price = dataset_test.iloc[:, 2:3].values\n",
    "dataset_test = dff.iloc[192:,:]\n",
    "dataset_train = dff.iloc[:192,:]\n",
    "# Getting the predicted stock price of 2017\n",
    "dataset_total = pd.concat((dataset_train['Low'], dataset_test['Low']), axis = 0)\n",
    "inputs = dataset_total[len(dataset_total) - len(dataset_test) - 30:].values\n",
    "inputs = inputs.reshape(-1,1)\n",
    "inputs = sc.transform(inputs)"
   ]
  },
  {
   "cell_type": "code",
   "execution_count": 324,
   "metadata": {},
   "outputs": [],
   "source": [
    "X_test = []\n",
    "for i in range(30, 80):\n",
    "    X_test.append(inputs[i-30:i, 0])\n",
    "X_test = np.array(X_test)\n",
    "X_test = np.reshape(X_test, (X_test.shape[0], X_test.shape[1], 1))\n",
    "predicted_stock_price = regressor.predict(X_test)\n",
    "new_predicted_stock_price = predicted_stock_price\n",
    "predicted_stock_price = sc.inverse_transform(predicted_stock_price)"
   ]
  },
  {
   "cell_type": "code",
   "execution_count": 325,
   "metadata": {},
   "outputs": [
    {
     "data": {
      "image/png": "[encoded data removed]",
      "text/plain": [
       "<Figure size 720x432 with 1 Axes>"
      ]
     },
     "metadata": {},
     "output_type": "display_data"
    }
   ],
   "source": [
    "plt.figure(figsize=(10,6))\n",
    "plt.plot(real_stock_price, color = 'red', label = 'Real')\n",
    "plt.plot(predicted_stock_price, color = 'blue', label = 'Predicted')\n",
    "plt.title('Prediction')\n",
    "plt.xlabel('Time')\n",
    "plt.legend()\n",
    "plt.show()"
   ]
  },
  {
   "cell_type": "code",
   "execution_count": 326,
   "metadata": {},
   "outputs": [],
   "source": [
    "predicted_l = pd.DataFrame(data=predicted_stock_price,columns=['Low'])"
   ]
  },
  {
   "cell_type": "code",
   "execution_count": 327,
   "metadata": {},
   "outputs": [],
   "source": [
    "predicted_l['Date']=0\n",
    "date = datetime.datetime(2019,10,18)\n",
    "for i in range(50): \n",
    "    date += datetime.timedelta(days=1)\n",
    "    predicted_l.iloc[i,1]=date"
   ]
  },
  {
   "cell_type": "code",
   "execution_count": 331,
   "metadata": {},
   "outputs": [
    {
     "data": {
      "text/html": [
       "<div>\n",
       "<style scoped>\n",
       "    .dataframe tbody tr th:only-of-type {\n",
       "        vertical-align: middle;\n",
       "    }\n",
       "\n",
       "    .dataframe tbody tr th {\n",
       "        vertical-align: top;\n",
       "    }\n",
       "\n",
       "    .dataframe thead th {\n",
       "        text-align: right;\n",
       "    }\n",
       "</style>\n",
       "<table border=\"1\" class=\"dataframe\">\n",
       "  <thead>\n",
       "    <tr style=\"text-align: right;\">\n",
       "      <th></th>\n",
       "      <th>Low</th>\n",
       "      <th>Date</th>\n",
       "    </tr>\n",
       "  </thead>\n",
       "  <tbody>\n",
       "    <tr>\n",
       "      <th>0</th>\n",
       "      <td>46375.621094</td>\n",
       "      <td>2019-10-19 00:00:00</td>\n",
       "    </tr>\n",
       "    <tr>\n",
       "      <th>1</th>\n",
       "      <td>46436.378906</td>\n",
       "      <td>2019-10-20 00:00:00</td>\n",
       "    </tr>\n",
       "    <tr>\n",
       "      <th>2</th>\n",
       "      <td>46406.128906</td>\n",
       "      <td>2019-10-21 00:00:00</td>\n",
       "    </tr>\n",
       "    <tr>\n",
       "      <th>3</th>\n",
       "      <td>46293.929688</td>\n",
       "      <td>2019-10-22 00:00:00</td>\n",
       "    </tr>\n",
       "    <tr>\n",
       "      <th>4</th>\n",
       "      <td>46072.593750</td>\n",
       "      <td>2019-10-23 00:00:00</td>\n",
       "    </tr>\n",
       "    <tr>\n",
       "      <th>5</th>\n",
       "      <td>45722.714844</td>\n",
       "      <td>2019-10-24 00:00:00</td>\n",
       "    </tr>\n",
       "    <tr>\n",
       "      <th>6</th>\n",
       "      <td>45256.011719</td>\n",
       "      <td>2019-10-25 00:00:00</td>\n",
       "    </tr>\n",
       "    <tr>\n",
       "      <th>7</th>\n",
       "      <td>44688.910156</td>\n",
       "      <td>2019-10-26 00:00:00</td>\n",
       "    </tr>\n",
       "    <tr>\n",
       "      <th>8</th>\n",
       "      <td>44067.863281</td>\n",
       "      <td>2019-10-27 00:00:00</td>\n",
       "    </tr>\n",
       "    <tr>\n",
       "      <th>9</th>\n",
       "      <td>43443.542969</td>\n",
       "      <td>2019-10-28 00:00:00</td>\n",
       "    </tr>\n",
       "    <tr>\n",
       "      <th>10</th>\n",
       "      <td>42883.675781</td>\n",
       "      <td>2019-10-29 00:00:00</td>\n",
       "    </tr>\n",
       "    <tr>\n",
       "      <th>11</th>\n",
       "      <td>42438.984375</td>\n",
       "      <td>2019-10-30 00:00:00</td>\n",
       "    </tr>\n",
       "    <tr>\n",
       "      <th>12</th>\n",
       "      <td>42148.390625</td>\n",
       "      <td>2019-10-31 00:00:00</td>\n",
       "    </tr>\n",
       "    <tr>\n",
       "      <th>13</th>\n",
       "      <td>42021.402344</td>\n",
       "      <td>2019-11-01 00:00:00</td>\n",
       "    </tr>\n",
       "    <tr>\n",
       "      <th>14</th>\n",
       "      <td>42061.843750</td>\n",
       "      <td>2019-11-02 00:00:00</td>\n",
       "    </tr>\n",
       "    <tr>\n",
       "      <th>15</th>\n",
       "      <td>42281.820312</td>\n",
       "      <td>2019-11-03 00:00:00</td>\n",
       "    </tr>\n",
       "    <tr>\n",
       "      <th>16</th>\n",
       "      <td>42628.074219</td>\n",
       "      <td>2019-11-04 00:00:00</td>\n",
       "    </tr>\n",
       "    <tr>\n",
       "      <th>17</th>\n",
       "      <td>43042.746094</td>\n",
       "      <td>2019-11-05 00:00:00</td>\n",
       "    </tr>\n",
       "    <tr>\n",
       "      <th>18</th>\n",
       "      <td>43459.234375</td>\n",
       "      <td>2019-11-06 00:00:00</td>\n",
       "    </tr>\n",
       "    <tr>\n",
       "      <th>19</th>\n",
       "      <td>43849.812500</td>\n",
       "      <td>2019-11-07 00:00:00</td>\n",
       "    </tr>\n",
       "    <tr>\n",
       "      <th>20</th>\n",
       "      <td>44181.882812</td>\n",
       "      <td>2019-11-08 00:00:00</td>\n",
       "    </tr>\n",
       "    <tr>\n",
       "      <th>21</th>\n",
       "      <td>44417.242188</td>\n",
       "      <td>2019-11-09 00:00:00</td>\n",
       "    </tr>\n",
       "    <tr>\n",
       "      <th>22</th>\n",
       "      <td>44574.359375</td>\n",
       "      <td>2019-11-10 00:00:00</td>\n",
       "    </tr>\n",
       "    <tr>\n",
       "      <th>23</th>\n",
       "      <td>44660.929688</td>\n",
       "      <td>2019-11-11 00:00:00</td>\n",
       "    </tr>\n",
       "    <tr>\n",
       "      <th>24</th>\n",
       "      <td>44657.640625</td>\n",
       "      <td>2019-11-12 00:00:00</td>\n",
       "    </tr>\n",
       "    <tr>\n",
       "      <th>25</th>\n",
       "      <td>44618.761719</td>\n",
       "      <td>2019-11-13 00:00:00</td>\n",
       "    </tr>\n",
       "    <tr>\n",
       "      <th>26</th>\n",
       "      <td>44599.300781</td>\n",
       "      <td>2019-11-14 00:00:00</td>\n",
       "    </tr>\n",
       "    <tr>\n",
       "      <th>27</th>\n",
       "      <td>44677.109375</td>\n",
       "      <td>2019-11-15 00:00:00</td>\n",
       "    </tr>\n",
       "    <tr>\n",
       "      <th>28</th>\n",
       "      <td>44862.769531</td>\n",
       "      <td>2019-11-16 00:00:00</td>\n",
       "    </tr>\n",
       "    <tr>\n",
       "      <th>29</th>\n",
       "      <td>45153.183594</td>\n",
       "      <td>2019-11-17 00:00:00</td>\n",
       "    </tr>\n",
       "    <tr>\n",
       "      <th>30</th>\n",
       "      <td>45527.007812</td>\n",
       "      <td>2019-11-18 00:00:00</td>\n",
       "    </tr>\n",
       "    <tr>\n",
       "      <th>31</th>\n",
       "      <td>45924.046875</td>\n",
       "      <td>2019-11-19 00:00:00</td>\n",
       "    </tr>\n",
       "    <tr>\n",
       "      <th>32</th>\n",
       "      <td>46345.964844</td>\n",
       "      <td>2019-11-20 00:00:00</td>\n",
       "    </tr>\n",
       "    <tr>\n",
       "      <th>33</th>\n",
       "      <td>46767.824219</td>\n",
       "      <td>2019-11-21 00:00:00</td>\n",
       "    </tr>\n",
       "    <tr>\n",
       "      <th>34</th>\n",
       "      <td>47190.421875</td>\n",
       "      <td>2019-11-22 00:00:00</td>\n",
       "    </tr>\n",
       "    <tr>\n",
       "      <th>35</th>\n",
       "      <td>47582.492188</td>\n",
       "      <td>2019-11-23 00:00:00</td>\n",
       "    </tr>\n",
       "    <tr>\n",
       "      <th>36</th>\n",
       "      <td>47896.753906</td>\n",
       "      <td>2019-11-24 00:00:00</td>\n",
       "    </tr>\n",
       "    <tr>\n",
       "      <th>37</th>\n",
       "      <td>48137.000000</td>\n",
       "      <td>2019-11-25 00:00:00</td>\n",
       "    </tr>\n",
       "    <tr>\n",
       "      <th>38</th>\n",
       "      <td>48273.050781</td>\n",
       "      <td>2019-11-26 00:00:00</td>\n",
       "    </tr>\n",
       "    <tr>\n",
       "      <th>39</th>\n",
       "      <td>48300.558594</td>\n",
       "      <td>2019-11-27 00:00:00</td>\n",
       "    </tr>\n",
       "    <tr>\n",
       "      <th>40</th>\n",
       "      <td>48254.031250</td>\n",
       "      <td>2019-11-28 00:00:00</td>\n",
       "    </tr>\n",
       "    <tr>\n",
       "      <th>41</th>\n",
       "      <td>48125.531250</td>\n",
       "      <td>2019-11-29 00:00:00</td>\n",
       "    </tr>\n",
       "    <tr>\n",
       "      <th>42</th>\n",
       "      <td>47937.472656</td>\n",
       "      <td>2019-11-30 00:00:00</td>\n",
       "    </tr>\n",
       "    <tr>\n",
       "      <th>43</th>\n",
       "      <td>47702.843750</td>\n",
       "      <td>2019-12-01 00:00:00</td>\n",
       "    </tr>\n",
       "    <tr>\n",
       "      <th>44</th>\n",
       "      <td>47451.203125</td>\n",
       "      <td>2019-12-02 00:00:00</td>\n",
       "    </tr>\n",
       "    <tr>\n",
       "      <th>45</th>\n",
       "      <td>47218.492188</td>\n",
       "      <td>2019-12-03 00:00:00</td>\n",
       "    </tr>\n",
       "    <tr>\n",
       "      <th>46</th>\n",
       "      <td>47064.187500</td>\n",
       "      <td>2019-12-04 00:00:00</td>\n",
       "    </tr>\n",
       "    <tr>\n",
       "      <th>47</th>\n",
       "      <td>47015.390625</td>\n",
       "      <td>2019-12-05 00:00:00</td>\n",
       "    </tr>\n",
       "    <tr>\n",
       "      <th>48</th>\n",
       "      <td>47089.109375</td>\n",
       "      <td>2019-12-06 00:00:00</td>\n",
       "    </tr>\n",
       "    <tr>\n",
       "      <th>49</th>\n",
       "      <td>47254.472656</td>\n",
       "      <td>2019-12-07 00:00:00</td>\n",
       "    </tr>\n",
       "  </tbody>\n",
       "</table>\n",
       "</div>"
      ],
      "text/plain": [
       "             Low                 Date\n",
       "0   46375.621094  2019-10-19 00:00:00\n",
       "1   46436.378906  2019-10-20 00:00:00\n",
       "2   46406.128906  2019-10-21 00:00:00\n",
       "3   46293.929688  2019-10-22 00:00:00\n",
       "4   46072.593750  2019-10-23 00:00:00\n",
       "5   45722.714844  2019-10-24 00:00:00\n",
       "6   45256.011719  2019-10-25 00:00:00\n",
       "7   44688.910156  2019-10-26 00:00:00\n",
       "8   44067.863281  2019-10-27 00:00:00\n",
       "9   43443.542969  2019-10-28 00:00:00\n",
       "10  42883.675781  2019-10-29 00:00:00\n",
       "11  42438.984375  2019-10-30 00:00:00\n",
       "12  42148.390625  2019-10-31 00:00:00\n",
       "13  42021.402344  2019-11-01 00:00:00\n",
       "14  42061.843750  2019-11-02 00:00:00\n",
       "15  42281.820312  2019-11-03 00:00:00\n",
       "16  42628.074219  2019-11-04 00:00:00\n",
       "17  43042.746094  2019-11-05 00:00:00\n",
       "18  43459.234375  2019-11-06 00:00:00\n",
       "19  43849.812500  2019-11-07 00:00:00\n",
       "20  44181.882812  2019-11-08 00:00:00\n",
       "21  44417.242188  2019-11-09 00:00:00\n",
       "22  44574.359375  2019-11-10 00:00:00\n",
       "23  44660.929688  2019-11-11 00:00:00\n",
       "24  44657.640625  2019-11-12 00:00:00\n",
       "25  44618.761719  2019-11-13 00:00:00\n",
       "26  44599.300781  2019-11-14 00:00:00\n",
       "27  44677.109375  2019-11-15 00:00:00\n",
       "28  44862.769531  2019-11-16 00:00:00\n",
       "29  45153.183594  2019-11-17 00:00:00\n",
       "30  45527.007812  2019-11-18 00:00:00\n",
       "31  45924.046875  2019-11-19 00:00:00\n",
       "32  46345.964844  2019-11-20 00:00:00\n",
       "33  46767.824219  2019-11-21 00:00:00\n",
       "34  47190.421875  2019-11-22 00:00:00\n",
       "35  47582.492188  2019-11-23 00:00:00\n",
       "36  47896.753906  2019-11-24 00:00:00\n",
       "37  48137.000000  2019-11-25 00:00:00\n",
       "38  48273.050781  2019-11-26 00:00:00\n",
       "39  48300.558594  2019-11-27 00:00:00\n",
       "40  48254.031250  2019-11-28 00:00:00\n",
       "41  48125.531250  2019-11-29 00:00:00\n",
       "42  47937.472656  2019-11-30 00:00:00\n",
       "43  47702.843750  2019-12-01 00:00:00\n",
       "44  47451.203125  2019-12-02 00:00:00\n",
       "45  47218.492188  2019-12-03 00:00:00\n",
       "46  47064.187500  2019-12-04 00:00:00\n",
       "47  47015.390625  2019-12-05 00:00:00\n",
       "48  47089.109375  2019-12-06 00:00:00\n",
       "49  47254.472656  2019-12-07 00:00:00"
      ]
     },
     "execution_count": 331,
     "metadata": {},
     "output_type": "execute_result"
    }
   ],
   "source": [
    "predicted_l"
   ]
  },
  {
   "cell_type": "code",
   "execution_count": 493,
   "metadata": {},
   "outputs": [],
   "source": [
    "Threshold_Max = predicted['High'].mean()+2000\n",
    "Threshold_Min = predicted_l['Low'].mean()"
   ]
  },
  {
   "cell_type": "code",
   "execution_count": 499,
   "metadata": {},
   "outputs": [],
   "source": [
    "predicted_final = pd.merge(predicted, predicted_l, on='Date')"
   ]
  },
  {
   "cell_type": "code",
   "execution_count": 501,
   "metadata": {},
   "outputs": [
    {
     "name": "stderr",
     "output_type": "stream",
     "text": [
      "C:\\Users\\dell\\Anaconda3_\\lib\\site-packages\\bs4\\__init__.py:181: UserWarning: No parser was explicitly specified, so I'm using the best available HTML parser for this system (\"lxml\"). This usually isn't a problem, but if you run this code on another system, or in a different virtual environment, it may use a different parser and behave differently.\n",
      "\n",
      "The code that caused this warning is on line 193 of the file C:\\Users\\dell\\Anaconda3_\\lib\\runpy.py. To get rid of this warning, change code that looks like this:\n",
      "\n",
      " BeautifulSoup(YOUR_MARKUP})\n",
      "\n",
      "to this:\n",
      "\n",
      " BeautifulSoup(YOUR_MARKUP, \"lxml\")\n",
      "\n",
      "  markup_type=markup_type))\n"
     ]
    }
   ],
   "source": [
    "from bs4 import BeautifulSoup as bs\n",
    "import urllib\n",
    "import urllib.request\n",
    "\n",
    "page=urllib.request.urlopen('https://www.moneycontrol.com/bse/shareholding/shp_public_shares.php?sc_dispid=IT&classic=true&fbclid=IwAR1WxKwbA6hCo0gJoBXxFbxd3xtHx70s5J4elrtITA2j5xCOgRy2ivoiGU4')\n",
    "soup=bs(page)\n",
    "#textv=soup.find_all('p')\n",
    "st = []\n",
    "textv=soup.find_all(\"p\",{\"PA5 gL_12\"})\n",
    "for string in textv:\n",
    "    string=str(string)\n",
    "    st.append(string.split('>')[1].split('<')[0])"
   ]
  },
  {
   "cell_type": "code",
   "execution_count": 508,
   "metadata": {},
   "outputs": [],
   "source": [
    "st\n",
    "stt = []\n",
    "stt.append(st[1])\n",
    "stt.append(st[2])\n",
    "stt.append(st[4])\n",
    "stt.append(st[5])\n",
    "stt.append(st[11])\n",
    "stt.append(st[3])\n",
    "stt.append(st[19])\n",
    "stt.append(st[17])\n",
    "stt.append(st[7])\n",
    "stt.append(st[0])\n",
    "stt.append(st[9])\n",
    "stt.append(st[15])"
   ]
  },
  {
   "cell_type": "code",
   "execution_count": 515,
   "metadata": {},
   "outputs": [
    {
     "data": {
      "text/plain": [
       "['Deutsche Bank Trust Company Americas ',\n",
       " 'Life Insurance Corporation of India ',\n",
       " 'HDFC Mutual Fund ',\n",
       " 'SBI Mutual Fund ',\n",
       " 'ICICI Prudential Mutual Fund ',\n",
       " 'Government of Singapore ',\n",
       " 'Overseas corporate bodies ',\n",
       " 'Qualified Institutional Buyer ',\n",
       " 'Foreign Nationals ',\n",
       " 'IEPF ',\n",
       " 'Foreign Bodies - DR ',\n",
       " 'Trusts ']"
      ]
     },
     "execution_count": 515,
     "metadata": {},
     "output_type": "execute_result"
    }
   ],
   "source": [
    "stt"
   ]
  },
  {
   "cell_type": "code",
   "execution_count": 524,
   "metadata": {},
   "outputs": [],
   "source": [
    "st1='These funds are likely to be positively affected'\n",
    "for i in range(0 ,5):\n",
    "    st1+=st[i]\n",
    "    st1+='\\n'\n",
    "st2='These funds are likely to be negatively affected'\n",
    "for i in range(5,10):\n",
    "    st2+=st[i]\n",
    "    st2+='\\n'"
   ]
  },
  {
   "cell_type": "code",
   "execution_count": 525,
   "metadata": {},
   "outputs": [
    {
     "data": {
      "text/plain": [
       "'These funds are likely to be negatively affectedSBI Mutual Fund \\nVANGUARD TOTAL INTERNATIONAL STOCK INDEX FUND \\nForeign Nationals \\nICICI Prudential Life Insurance Company Limited \\nForeign Bodies - DR \\n'"
      ]
     },
     "execution_count": 525,
     "metadata": {},
     "output_type": "execute_result"
    }
   ],
   "source": [
    "st2"
   ]
  },
  {
   "cell_type": "code",
   "execution_count": 526,
   "metadata": {},
   "outputs": [
    {
     "data": {
      "text/plain": [
       "['Qualified Institutional Buyer ',\n",
       " 'Foreign Nationals ',\n",
       " 'IEPF ',\n",
       " 'Foreign Bodies - DR ',\n",
       " 'Trusts ']"
      ]
     },
     "execution_count": 526,
     "metadata": {},
     "output_type": "execute_result"
    }
   ],
   "source": [
    "stt[-5:]"
   ]
  },
  {
   "cell_type": "code",
   "execution_count": 527,
   "metadata": {},
   "outputs": [
    {
     "name": "stdout",
     "output_type": "stream",
     "text": [
      "{\"status\":\"OK\",\"data\":[{\"id\":\"089e151d-74b7-466d-8307-e0c3d65cc738:1\",\"customid\":\"\",\"customid1\":\"\",\"customid2\":\"\",\"mobile\":\"8698667601\",\"status\":\"AWAITED-DLR\"}],\"message\":\"Campaign of 1 numbers Submitted successfully.\"}\n",
      "{\"status\":\"OK\",\"data\":[{\"id\":\"0d5fad3f-84e1-4089-a123-ca46dda0c002:1\",\"customid\":\"\",\"customid1\":\"\",\"customid2\":\"\",\"mobile\":\"8698667601\",\"status\":\"AWAITED-DLR\"}],\"message\":\"Campaign of 1 numbers Submitted successfully.\"}\n",
      "{\"status\":\"OK\",\"data\":[{\"id\":\"38ce7109-5d9b-48a8-a55e-fc8b2f213f69:1\",\"customid\":\"\",\"customid1\":\"\",\"customid2\":\"\",\"mobile\":\"8698667601\",\"status\":\"AWAITED-DLR\"}],\"message\":\"Campaign of 1 numbers Submitted successfully.\"}\n",
      "{\"status\":\"OK\",\"data\":[{\"id\":\"9a0a9422-696d-416a-87d1-0b193d021d7f:1\",\"customid\":\"\",\"customid1\":\"\",\"customid2\":\"\",\"mobile\":\"8698667601\",\"status\":\"AWAITED-DLR\"}],\"message\":\"Campaign of 1 numbers Submitted successfully.\"}\n",
      "{\"status\":\"OK\",\"data\":[{\"id\":\"a2f43bc6-0182-4053-ae7f-bc7bd7d44082:1\",\"customid\":\"\",\"customid1\":\"\",\"customid2\":\"\",\"mobile\":\"8698667601\",\"status\":\"AWAITED-DLR\"}],\"message\":\"Campaign of 1 numbers Submitted successfully.\"}\n",
      "{\"status\":\"OK\",\"data\":[{\"id\":\"0d6551b9-4441-42ea-b1e1-01bc1c6887b5:1\",\"customid\":\"\",\"customid1\":\"\",\"customid2\":\"\",\"mobile\":\"8698667601\",\"status\":\"AWAITED-DLR\"}],\"message\":\"Campaign of 1 numbers Submitted successfully.\"}\n",
      "{\"status\":\"OK\",\"data\":[{\"id\":\"85444e0e-2da6-4de0-a272-e27ea047681a:1\",\"customid\":\"\",\"customid1\":\"\",\"customid2\":\"\",\"mobile\":\"8698667601\",\"status\":\"AWAITED-DLR\"}],\"message\":\"Campaign of 1 numbers Submitted successfully.\"}\n",
      "{\"status\":\"OK\",\"data\":[{\"id\":\"ccd4f0b2-ad24-4e7f-a1c4-1f95862d1705:1\",\"customid\":\"\",\"customid1\":\"\",\"customid2\":\"\",\"mobile\":\"8698667601\",\"status\":\"AWAITED-DLR\"}],\"message\":\"Campaign of 1 numbers Submitted successfully.\"}\n",
      "{\"status\":\"OK\",\"data\":[{\"id\":\"908f689a-6b68-4c00-9e1c-d14163272ddc:1\",\"customid\":\"\",\"customid1\":\"\",\"customid2\":\"\",\"mobile\":\"8698667601\",\"status\":\"AWAITED-DLR\"}],\"message\":\"Campaign of 1 numbers Submitted successfully.\"}\n",
      "{\"status\":\"OK\",\"data\":[{\"id\":\"ff65f55b-7638-453a-83d9-7f290bb3e00a:1\",\"customid\":\"\",\"customid1\":\"\",\"customid2\":\"\",\"mobile\":\"8698667601\",\"status\":\"AWAITED-DLR\"}],\"message\":\"Campaign of 1 numbers Submitted successfully.\"}\n",
      "{\"status\":\"OK\",\"data\":[{\"id\":\"61ac2e2c-a10a-4f96-8567-353643b406df:1\",\"customid\":\"\",\"customid1\":\"\",\"customid2\":\"\",\"mobile\":\"8698667601\",\"status\":\"AWAITED-DLR\"}],\"message\":\"Campaign of 1 numbers Submitted successfully.\"}\n",
      "{\"status\":\"OK\",\"data\":[{\"id\":\"fe9a6a8a-0bfd-46d7-aecf-28df60717b6e:1\",\"customid\":\"\",\"customid1\":\"\",\"customid2\":\"\",\"mobile\":\"8698667601\",\"status\":\"AWAITED-DLR\"}],\"message\":\"Campaign of 1 numbers Submitted successfully.\"}\n",
      "{\"status\":\"OK\",\"data\":[{\"id\":\"9b543e17-3646-4604-ba20-19bdc4b21c26:1\",\"customid\":\"\",\"customid1\":\"\",\"customid2\":\"\",\"mobile\":\"8698667601\",\"status\":\"AWAITED-DLR\"}],\"message\":\"Campaign of 1 numbers Submitted successfully.\"}\n",
      "{\"status\":\"OK\",\"data\":[{\"id\":\"f92d30e9-7053-4fac-8bea-d48d2f9b320f:1\",\"customid\":\"\",\"customid1\":\"\",\"customid2\":\"\",\"mobile\":\"8698667601\",\"status\":\"AWAITED-DLR\"}],\"message\":\"Campaign of 1 numbers Submitted successfully.\"}\n",
      "{\"status\":\"OK\",\"data\":[{\"id\":\"1f54a048-b81f-46b8-aa37-1ae30ec547a8:1\",\"customid\":\"\",\"customid1\":\"\",\"customid2\":\"\",\"mobile\":\"8698667601\",\"status\":\"AWAITED-DLR\"}],\"message\":\"Campaign of 1 numbers Submitted successfully.\"}\n",
      "{\"status\":\"OK\",\"data\":[{\"id\":\"ae10eaaa-5aa9-47b9-bd8f-bf55e49753ae:1\",\"customid\":\"\",\"customid1\":\"\",\"customid2\":\"\",\"mobile\":\"8698667601\",\"status\":\"AWAITED-DLR\"}],\"message\":\"Campaign of 1 numbers Submitted successfully.\"}\n",
      "{\"status\":\"OK\",\"data\":[{\"id\":\"59fd5850-291e-4a31-9074-d5e00334b853:1\",\"customid\":\"\",\"customid1\":\"\",\"customid2\":\"\",\"mobile\":\"8698667601\",\"status\":\"AWAITED-DLR\"}],\"message\":\"Campaign of 1 numbers Submitted successfully.\"}\n",
      "{\"status\":\"OK\",\"data\":[{\"id\":\"29d4d9dc-d50d-4120-8c73-062252746e89:1\",\"customid\":\"\",\"customid1\":\"\",\"customid2\":\"\",\"mobile\":\"8698667601\",\"status\":\"AWAITED-DLR\"}],\"message\":\"Campaign of 1 numbers Submitted successfully.\"}\n",
      "{\"status\":\"OK\",\"data\":[{\"id\":\"a9aba034-36fb-4bf4-b25e-7ee9f3a9fdb3:1\",\"customid\":\"\",\"customid1\":\"\",\"customid2\":\"\",\"mobile\":\"8698667601\",\"status\":\"AWAITED-DLR\"}],\"message\":\"Campaign of 1 numbers Submitted successfully.\"}\n",
      "{\"status\":\"OK\",\"data\":[{\"id\":\"74f60a33-c0ec-49dc-9b99-e434da38a397:1\",\"customid\":\"\",\"customid1\":\"\",\"customid2\":\"\",\"mobile\":\"8698667601\",\"status\":\"AWAITED-DLR\"}],\"message\":\"Campaign of 1 numbers Submitted successfully.\"}\n",
      "{\"status\":\"OK\",\"data\":[{\"id\":\"024784ad-4acc-4ef4-a792-77e737a44b18:1\",\"customid\":\"\",\"customid1\":\"\",\"customid2\":\"\",\"mobile\":\"8698667601\",\"status\":\"AWAITED-DLR\"}],\"message\":\"Campaign of 1 numbers Submitted successfully.\"}\n",
      "{\"status\":\"OK\",\"data\":[{\"id\":\"a9b24a09-2071-459f-a120-c4abdad101a9:1\",\"customid\":\"\",\"customid1\":\"\",\"customid2\":\"\",\"mobile\":\"8698667601\",\"status\":\"AWAITED-DLR\"}],\"message\":\"Campaign of 1 numbers Submitted successfully.\"}\n",
      "{\"status\":\"OK\",\"data\":[{\"id\":\"95bd6437-9166-4046-a08a-c59771c943a8:1\",\"customid\":\"\",\"customid1\":\"\",\"customid2\":\"\",\"mobile\":\"8698667601\",\"status\":\"AWAITED-DLR\"}],\"message\":\"Campaign of 1 numbers Submitted successfully.\"}\n",
      "{\"status\":\"OK\",\"data\":[{\"id\":\"0095ded1-3488-4e3e-936c-6d5a4de152e3:1\",\"customid\":\"\",\"customid1\":\"\",\"customid2\":\"\",\"mobile\":\"8698667601\",\"status\":\"AWAITED-DLR\"}],\"message\":\"Campaign of 1 numbers Submitted successfully.\"}\n",
      "{\"status\":\"OK\",\"data\":[{\"id\":\"1e91a103-76fe-4984-bf05-96cd98578465:1\",\"customid\":\"\",\"customid1\":\"\",\"customid2\":\"\",\"mobile\":\"8698667601\",\"status\":\"AWAITED-DLR\"}],\"message\":\"Campaign of 1 numbers Submitted successfully.\"}\n",
      "{\"status\":\"OK\",\"data\":[{\"id\":\"b2e26b23-abe5-46cb-9b6d-452326271846:1\",\"customid\":\"\",\"customid1\":\"\",\"customid2\":\"\",\"mobile\":\"8698667601\",\"status\":\"AWAITED-DLR\"}],\"message\":\"Campaign of 1 numbers Submitted successfully.\"}\n",
      "{\"status\":\"OK\",\"data\":[{\"id\":\"825f6638-a046-4f4b-8db4-ff27e6faceea:1\",\"customid\":\"\",\"customid1\":\"\",\"customid2\":\"\",\"mobile\":\"8698667601\",\"status\":\"AWAITED-DLR\"}],\"message\":\"Campaign of 1 numbers Submitted successfully.\"}\n",
      "{\"status\":\"OK\",\"data\":[{\"id\":\"06b8bb41-c91b-4a85-a988-828030f94f82:1\",\"customid\":\"\",\"customid1\":\"\",\"customid2\":\"\",\"mobile\":\"8698667601\",\"status\":\"AWAITED-DLR\"}],\"message\":\"Campaign of 1 numbers Submitted successfully.\"}\n",
      "{\"status\":\"OK\",\"data\":[{\"id\":\"e020022d-5611-4f8d-910f-00c3b56fcde3:1\",\"customid\":\"\",\"customid1\":\"\",\"customid2\":\"\",\"mobile\":\"8698667601\",\"status\":\"AWAITED-DLR\"}],\"message\":\"Campaign of 1 numbers Submitted successfully.\"}\n",
      "{\"status\":\"OK\",\"data\":[{\"id\":\"32db287f-e76d-4b92-a9fe-543566c8019f:1\",\"customid\":\"\",\"customid1\":\"\",\"customid2\":\"\",\"mobile\":\"8698667601\",\"status\":\"AWAITED-DLR\"}],\"message\":\"Campaign of 1 numbers Submitted successfully.\"}\n",
      "{\"status\":\"OK\",\"data\":[{\"id\":\"45c78455-871c-4b3d-8204-be0b04b8bfce:1\",\"customid\":\"\",\"customid1\":\"\",\"customid2\":\"\",\"mobile\":\"8698667601\",\"status\":\"AWAITED-DLR\"}],\"message\":\"Campaign of 1 numbers Submitted successfully.\"}\n",
      "{\"status\":\"OK\",\"data\":[{\"id\":\"cfbde5cf-941e-4bdd-9132-6ad12ac2179f:1\",\"customid\":\"\",\"customid1\":\"\",\"customid2\":\"\",\"mobile\":\"8698667601\",\"status\":\"AWAITED-DLR\"}],\"message\":\"Campaign of 1 numbers Submitted successfully.\"}\n",
      "{\"status\":\"OK\",\"data\":[{\"id\":\"ca8f3ca1-aeb2-4854-a935-c3fdca950d11:1\",\"customid\":\"\",\"customid1\":\"\",\"customid2\":\"\",\"mobile\":\"8698667601\",\"status\":\"AWAITED-DLR\"}],\"message\":\"Campaign of 1 numbers Submitted successfully.\"}\n"
     ]
    }
   ],
   "source": [
    "import requests\n",
    "import time\n",
    "\n",
    "url = \"http://alerts.solutionsinfini.com/api/v4/\"\n",
    "url2 = \"https://voice.solutionsinfini.com/api/v1/\"\n",
    "\n",
    "\n",
    "for ind in predicted_final.index:\n",
    "    if predicted_final['High'][ind]>Threshold_Max:\n",
    "        Date = predicted_final['Date'][ind]\n",
    "        Val = predicted['High'][ind]\n",
    "        Date = Date.strftime('%Y-%m-%d')\n",
    "        str1 = f'Stock_Market will cross the max Threshold with {Val} on {Date}\\n'\n",
    "        querystring = {\"method\":\"sms\",\"sender\":\"HACKAT\",\"to\":\"8698667601\",\"message\":str1+'\\n'+st1,\"api_key\":\"A91862b9c45ff3872032bb46332b1be86\"}\n",
    "        \n",
    "        response = requests.request(\"GET\", url, params=querystring)\n",
    "        print(response.text)\n",
    "\n",
    "        time.sleep(0.1)\n",
    "    if predicted_final['Low'][ind]<Threshold_Min:\n",
    "        Date = predicted_final['Date'][ind]\n",
    "        Val = predicted['High'][ind]\n",
    "        Date = Date.strftime('%Y-%m-%d')\n",
    "        str1 = f'Stock_Market will cross the min Threshold with {Val} on {Date}\\n'\n",
    "        querystring = {\"method\":\"sms\",\"sender\":\"HACKAT\",\"to\":\"8698667601\",\"message\":str1+'\\n'+st2,\"api_key\":\"A91862b9c45ff3872032bb46332b1be86\"}\n",
    "        \n",
    "        response = requests.request(\"GET\", url, params=querystring)\n",
    "        print(response.text)\n",
    "\n",
    "        time.sleep(0.1)\n",
    "    \n",
    "querystring = {\"method\":\"dial.click2call\",\"format\":\"xml\",\"caller\":\"8698667601\",\"receiver\":\"ivr:57342\",\"api_key\":\"Ad9b6d364b7d3fa47d382ec64efc043fd\"}\n",
    "\n",
    "response1 = requests.request(\"GET\", url2, params=querystring)"
   ]
  },
  {
   "cell_type": "code",
   "execution_count": 538,
   "metadata": {},
   "outputs": [
    {
     "ename": "SyntaxError",
     "evalue": "unexpected EOF while parsing (<ipython-input-538-955c838ad497>, line 5)",
     "output_type": "error",
     "traceback": [
      "\u001b[1;36m  File \u001b[1;32m\"<ipython-input-538-955c838ad497>\"\u001b[1;36m, line \u001b[1;32m5\u001b[0m\n\u001b[1;33m    @azureml.returns(int)\u001b[0m\n\u001b[1;37m                         ^\u001b[0m\n\u001b[1;31mSyntaxError\u001b[0m\u001b[1;31m:\u001b[0m unexpected EOF while parsing\n"
     ]
    }
   ],
   "source": [
    "import azureml\n",
    "\n",
    "@azureml.publish(workspace_id, workspace_token)\n",
    "@azureml.types(texture_mean=float, perimeter_mean=float, smoothness_mean=float, compactness_mean=float, symmetry_mean=float)\n",
    "@azureml.returns(int)\n",
    "\n"
   ]
  },
  {
   "cell_type": "code",
   "execution_count": null,
   "metadata": {},
   "outputs": [],
   "source": []
  }
 ],
 "metadata": {
  "kernelspec": {
   "display_name": "Python 3",
   "language": "python",
   "name": "python3"
  },
  "language_info": {
   "codemirror_mode": {
    "name": "ipython",
    "version": 3
   },
   "file_extension": ".py",
   "mimetype": "text/x-python",
   "name": "python",
   "nbconvert_exporter": "python",
   "pygments_lexer": "ipython3",
   "version": "3.6.5"
  }
 },
 "nbformat": 4,
 "nbformat_minor": 2
}
